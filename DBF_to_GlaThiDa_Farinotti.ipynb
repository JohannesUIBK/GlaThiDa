{
 "cells": [
  {
   "cell_type": "code",
   "execution_count": null,
   "metadata": {
    "collapsed": false
   },
   "outputs": [],
   "source": [
    "import pandas as pd\n",
    "from glob import glob\n",
    "from simpledbf import Dbf5\n",
    "import os\n",
    "import pyproj\n",
    "import numpy as np"
   ]
  },
  {
   "cell_type": "markdown",
   "metadata": {},
   "source": [
    "# GlaThiDa templates"
   ]
  },
  {
   "cell_type": "code",
   "execution_count": null,
   "metadata": {
    "collapsed": true
   },
   "outputs": [],
   "source": [
    "templ_t = pd.read_excel('C:\\\\Users\\\\jlandman\\\\Desktop\\\\GlaThiDa_2-0_DataSubmissionForm_for_pandas.csv', sheetname='T - GLACIER THICKNESS OVERVIEW') \n",
    "templ_tt = pd.read_excel('C:\\\\Users\\\\jlandman\\\\Desktop\\\\GlaThiDa_2-0_DataSubmissionForm_for_pandas.csv', sheetname='TT - GL. THICKNESS DISTRIBUTION')\n",
    "templ_ttt = pd.read_excel('C:\\\\Users\\\\jlandman\\\\Desktop\\\\GlaThiDa_2-0_DataSubmissionForm_for_pandas.csv', sheetname='TTT - GL. THICKNESS POINT DATA')"
   ]
  },
  {
   "cell_type": "markdown",
   "metadata": {},
   "source": [
    "# New GlaThiDa IDs for the treated glaciers"
   ]
  },
  {
   "cell_type": "code",
   "execution_count": null,
   "metadata": {
    "collapsed": true
   },
   "outputs": [],
   "source": [
    "gtd_ids = {'brewster': 2077,\n",
    "          'north': 2078,\n",
    "          'south':2079,\n",
    "          'starbuck':2080,\n",
    "          'urumqui':2081,\n",
    "          'west_washamawapta':2082}"
   ]
  },
  {
   "cell_type": "markdown",
   "metadata": {},
   "source": [
    "# Brewster glacier"
   ]
  },
  {
   "cell_type": "code",
   "execution_count": null,
   "metadata": {
    "collapsed": true
   },
   "outputs": [],
   "source": [
    "nzgd = pyproj.Proj(init='epsg:2193') # NZGD2000_New_Zealand_Transverse_Mercator_2000\n",
    "latlon = pyproj.Proj(init='epsg:4326')  #WGS84 lat/lon"
   ]
  },
  {
   "cell_type": "code",
   "execution_count": null,
   "metadata": {
    "collapsed": true
   },
   "outputs": [],
   "source": [
    "# constants\n",
    "brew = {'punit': 'NZ',\n",
    "'gname': 'BREWSTER',\n",
    "'survey_date': '19979999',\n",
    "'dem_date': '19860399',\n",
    "'gid': np.nan,\n",
    "'lat': -44.07,\n",
    "'lon': 169.43,\n",
    "'area': 2.62,\n",
    "'mean_sl': np.nan,\n",
    "'min_th': np.nan,\n",
    "'min_th_unc': np.nan,\n",
    "'max_th': np.nan,\n",
    "'max_th_unc': np.nan,\n",
    "'surv_meth': 'GPRt',\n",
    "'surv_meth_det': '',\n",
    "'no_points': 588,\n",
    "'no_prfls': 4,\n",
    "'length_prfls':,\n",
    "'interp_meth':,\n",
    "'investig':,\n",
    "'spons_ag':,\n",
    "'ref':,\n",
    "'dflag':,\n",
    "'remarks_t':'Source_ID: Glacier outline and DEM from aerial photography for the NZMS260 mapping series which was flown in March 1986. Lat/lon from FoG2015',\n",
    "}"
   ]
  },
  {
   "cell_type": "code",
   "execution_count": null,
   "metadata": {
    "collapsed": false
   },
   "outputs": [],
   "source": [
    "brewster_path = 'C:\\\\Users\\\\jlandman\\\\Desktop\\\\newData\\\\WG_Farinotti_data_package\\\\brewster\\\\brewster_1986.csv'\n",
    "\n",
    "brew = pd.read_csv(brewster_path)\n",
    "\n",
    "xs = brew['nztm_easting (m)'].values\n",
    "ys = brew[' nztm_northing (m)'].values\n",
    "\n",
    "x1,y1 = p1(xs, ys)\n",
    "lons, lats = pyproj.transform(utm32,latlon,xs,ys)\n",
    "\n",
    "brew['POINT_LAT'] = lats\n",
    "brew['POINT_LON'] = lons\n",
    "\n",
    "    data['GlaThiDa_ID'] = gtd_id\n",
    "    data['POLITICAL_UNIT'] = punit\n",
    "    data['GLACIER_NAME'] = fname.split('.')[0].upper()\n",
    "    data['SURVEY_DATE'] = date_dict[fname.split('.')[0]]\n",
    "    data['POINT_ID'] = range(1,len(data)+1)\n",
    "\n",
    "    try:\n",
    "        data['ELEVATION'] = (data['ed'] + data['ug']).map('{:.0f}'.format)\n",
    "    except KeyError:\n",
    "        data['ELEVATION'] = np.nan\n",
    "\n",
    "    data['THICKNESS'] = data['ed'].map('{:.0f}'.format)\n",
    "    data['THICKNESS_UNCERTAINTY'] = thickness_unc\n",
    "    data['DATA_FLAG'] = data_flag\n",
    "    data['REMARKS'] = remarks + ' Every %s points from the original series have been averaged.' % thin_dict[fname.split('.')[0]]\n",
    "\n",
    "\n",
    "new_data = new_data[['GlaThiDa_ID','POLITICAL_UNIT','GLACIER_NAME','SURVEY_DATE','POINT_ID','POINT_LAT','POINT_LON',\n",
    "                     'ELEVATION','THICKNESS','THICKNESS_UNCERTAINTY','DATA_FLAG','REMARKS']]\n",
    "\n",
    "new_data.to_excel(os.path.join(os.path.dirname(file),fname.split('.')[0]+'.xls'), index=False)"
   ]
  },
  {
   "cell_type": "code",
   "execution_count": null,
   "metadata": {
    "collapsed": true
   },
   "outputs": [],
   "source": []
  },
  {
   "cell_type": "code",
   "execution_count": null,
   "metadata": {
    "collapsed": true
   },
   "outputs": [],
   "source": []
  }
 ],
 "metadata": {
  "kernelspec": {
   "display_name": "Python 3",
   "language": "python",
   "name": "python3"
  },
  "language_info": {
   "codemirror_mode": {
    "name": "ipython",
    "version": 3
   },
   "file_extension": ".py",
   "mimetype": "text/x-python",
   "name": "python",
   "nbconvert_exporter": "python",
   "pygments_lexer": "ipython3",
   "version": "3.5.1"
  }
 },
 "nbformat": 4,
 "nbformat_minor": 0
}
