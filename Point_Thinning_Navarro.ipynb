{
 "cells": [
  {
   "cell_type": "code",
   "execution_count": 22,
   "metadata": {
    "collapsed": false
   },
   "outputs": [],
   "source": [
    "import pandas as pd\n",
    "from glob import glob\n",
    "import os\n",
    "import numpy as np"
   ]
  },
  {
   "cell_type": "code",
   "execution_count": 23,
   "metadata": {
    "collapsed": false
   },
   "outputs": [
    {
     "name": "stdout",
     "output_type": "stream",
     "text": [
      "['C:\\\\Users\\\\jlandman\\\\Desktop\\\\newData\\\\SJ_AQ_Navarro\\\\final\\\\GlaThiDa_Navarro1_Johannes.xlsx', 'C:\\\\Users\\\\jlandman\\\\Desktop\\\\newData\\\\SJ_AQ_Navarro\\\\final\\\\GlaThiDa_Navarro2_Johannes.xlsx']\n"
     ]
    }
   ],
   "source": [
    "files = glob('C:\\\\Users\\\\jlandman\\\\Desktop\\\\newData\\\\SJ_AQ_Navarro\\\\final\\\\*_Johannes.xlsx')\n",
    "print(files)"
   ]
  },
  {
   "cell_type": "code",
   "execution_count": 24,
   "metadata": {
    "collapsed": true
   },
   "outputs": [],
   "source": [
    "thin_dict = {\"ELFENBEINBREEN\": 14,\n",
    "             \"SVEIGBREEN\": 4,\n",
    "}"
   ]
  },
  {
   "cell_type": "code",
   "execution_count": 25,
   "metadata": {
    "collapsed": false
   },
   "outputs": [],
   "source": [
    "data_new = pd.DataFrame([])\n",
    "\n",
    "for file in files:\n",
    "    data = pd.read_excel(file, sheetname='TTT - GL. THICKNESS POINT DATA')\n",
    "    for gid in np.unique(data.GlaThiDa_ID.values):\n",
    "        temp = data[data.GlaThiDa_ID==gid]\n",
    "\n",
    "        gname = temp[temp.GlaThiDa_ID == gid].GLACIER_NAME.values[0]\n",
    "        pol_u = temp[temp.GlaThiDa_ID == gid].POLITICAL_UNIT.values[0]\n",
    "        surv_date = temp[temp.GlaThiDa_ID == gid].SURVEY_DATE.values[0]\n",
    "        remarks = temp[temp.GlaThiDa_ID == gid].REMARKS.iloc[0]\n",
    "        gtd_id = gid\n",
    "\n",
    "        temp = temp.groupby(temp.index // thin_dict[gname]).mean() # average over every x values as specified above\n",
    "\n",
    "        temp['POLITICAL_UNIT'] = pol_u\n",
    "        temp['GLACIER_NAME'] = gname\n",
    "        temp['REMARKS'] = remarks\n",
    "        temp['DATA_FLAG'] = np.nan\n",
    "        temp['GlaThiDa_ID'] = gtd_id\n",
    "        temp['SURVEY_DATE'] = surv_date\n",
    "        temp['POINT_ID'] = range(1,len(temp)+1)\n",
    "\n",
    "\n",
    "        data_new = data_new.append(temp, ignore_index=True)\n",
    "\n",
    "data_new['THICKNESS_UNCERTAINTY'] = data_new['THICKNESS_UNCERTAINTY'].map('{:.4f}'.format)\n",
    "data_new['THICKNESS'] = data_new['THICKNESS'].map('{:.1f}'.format)\n",
    "\n",
    "data_new = data_new[['GlaThiDa_ID','POLITICAL_UNIT', 'GLACIER_NAME', 'SURVEY_DATE', 'POINT_ID',  'POINT_LAT',  'POINT_LON',  'ELEVATION', \n",
    "                     'THICKNESS', 'THICKNESS_UNCERTAINTY', 'DATA_FLAG', 'REMARKS']]\n",
    "\n",
    "data_new = data_new.sort_values(by=['GlaThiDa_ID','POINT_ID'])\n",
    "data_new.to_excel(os.path.join(os.path.dirname(file),file.split('.')[0]+'_thinned.xlsx'), index=False)"
   ]
  },
  {
   "cell_type": "code",
   "execution_count": null,
   "metadata": {
    "collapsed": true
   },
   "outputs": [],
   "source": []
  },
  {
   "cell_type": "code",
   "execution_count": null,
   "metadata": {
    "collapsed": true
   },
   "outputs": [],
   "source": []
  }
 ],
 "metadata": {
  "kernelspec": {
   "display_name": "Python 3",
   "language": "python",
   "name": "python3"
  },
  "language_info": {
   "codemirror_mode": {
    "name": "ipython",
    "version": 3
   },
   "file_extension": ".py",
   "mimetype": "text/x-python",
   "name": "python",
   "nbconvert_exporter": "python",
   "pygments_lexer": "ipython3",
   "version": "3.5.1"
  }
 },
 "nbformat": 4,
 "nbformat_minor": 0
}
