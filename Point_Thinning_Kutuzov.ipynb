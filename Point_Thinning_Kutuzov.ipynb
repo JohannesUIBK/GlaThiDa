{
 "cells": [
  {
   "cell_type": "code",
   "execution_count": 5,
   "metadata": {
    "collapsed": false
   },
   "outputs": [],
   "source": [
    "import pandas as pd\n",
    "from glob import glob\n",
    "import os\n",
    "import numpy as np"
   ]
  },
  {
   "cell_type": "code",
   "execution_count": 14,
   "metadata": {
    "collapsed": false
   },
   "outputs": [
    {
     "name": "stdout",
     "output_type": "stream",
     "text": [
      "C:\\Users\\jlandman\\Desktop\\newData\\RU_Kutuzov\\GlaThiDa_2-0_Kutuzov_Johannes.xls\n"
     ]
    }
   ],
   "source": [
    "file = 'C:\\\\Users\\\\jlandman\\\\Desktop\\\\newData\\\\RU_Kutuzov\\\\GlaThiDa_2-0_Kutuzov_Johannes.xls'\n",
    "print(file)"
   ]
  },
  {
   "cell_type": "code",
   "execution_count": 15,
   "metadata": {
    "collapsed": true
   },
   "outputs": [],
   "source": [
    "thin_dict = {(2072, 'DJANKUAT'): 2,\n",
    "             (2073, 'DJANKUAT'): 2,\n",
    "             (2074, 'MARUKH'): 2,\n",
    "}"
   ]
  },
  {
   "cell_type": "code",
   "execution_count": 20,
   "metadata": {
    "collapsed": false
   },
   "outputs": [
    {
     "name": "stdout",
     "output_type": "stream",
     "text": [
      "   GlaThiDa_ID POLITICAL_UNIT GLACIER_NAME  SURVEY_DATE  POINT_ID  POINT_LAT  \\\n",
      "0         2072             SU     DJANKUAT     20120710         1  43.203950   \n",
      "1         2072             SU     DJANKUAT     20120710         2  43.203959   \n",
      "2         2072             SU     DJANKUAT     20120710         3  43.203963   \n",
      "3         2072             SU     DJANKUAT     20120710         4  43.203961   \n",
      "4         2072             SU     DJANKUAT     20120710         5  43.203954   \n",
      "\n",
      "   POINT_LON  ELEVATION  THICKNESS  THICKNESS_UNCERTAINTY  DATA_FLAG  \\\n",
      "0  42.746723     2726.0      11.71                 0.3513        NaN   \n",
      "1  42.746751     2726.0      11.21                 0.3363        NaN   \n",
      "2  42.746786     2726.0      10.82                 0.3246        NaN   \n",
      "3  42.746822     2726.0      10.49                 0.3147        NaN   \n",
      "4  42.746867     2726.0      10.30                 0.3090        NaN   \n",
      "\n",
      "                                             REMARKS  \n",
      "0  Survey Method: GPRt VIRL6. ASTERGDEMV.2 was us...  \n",
      "1  Survey Method: GPRt VIRL6. ASTERGDEMV.2 was us...  \n",
      "2  Survey Method: GPRt VIRL6. ASTERGDEMV.2 was us...  \n",
      "3  Survey Method: GPRt VIRL6. ASTERGDEMV.2 was us...  \n",
      "4  Survey Method: GPRt VIRL6. ASTERGDEMV.2 was us...  \n"
     ]
    }
   ],
   "source": [
    "data_new = pd.DataFrame([])\n",
    "\n",
    "data = pd.read_excel(file, sheetname='TTT - GL. THICKNESS POINT DATA')\n",
    "\n",
    "\n",
    "for gid in np.unique(data.GlaThiDa_ID.values):\n",
    "    temp = data[data.GlaThiDa_ID==gid]\n",
    "\n",
    "    gname = temp[temp.GlaThiDa_ID == gid].GLACIER_NAME.values[0]\n",
    "    pol_u = temp[temp.GlaThiDa_ID == gid].POLITICAL_UNIT.values[0]\n",
    "    surv_date = temp[temp.GlaThiDa_ID == gid].SURVEY_DATE.values[0]\n",
    "    remarks = temp[temp.GlaThiDa_ID == gid].REMARKS.iloc[0]\n",
    "    gtd_id = gid\n",
    "\n",
    "    temp = temp.groupby(temp.index // thin_dict[(gid, gname)]).mean() # average over every x values as specified above\n",
    "\n",
    "    temp['POLITICAL_UNIT'] = pol_u\n",
    "    temp['GLACIER_NAME'] = gname\n",
    "    temp['REMARKS'] = remarks\n",
    "    temp['DATA_FLAG'] = np.nan\n",
    "    temp['GlaThiDa_ID'] = gtd_id\n",
    "    temp['SURVEY_DATE'] = surv_date\n",
    "    temp['POINT_ID'] = range(1,len(temp)+1)\n",
    "\n",
    "\n",
    "    data_new = data_new.append(temp, ignore_index=True)\n",
    "\n",
    "    \n",
    "data_new['THICKNESS'] = data_new['THICKNESS'].map('{:.1f}'.format)\n",
    "data_new = data_new[['GlaThiDa_ID','POLITICAL_UNIT', 'GLACIER_NAME', 'SURVEY_DATE', 'POINT_ID',  'POINT_LAT',  'POINT_LON',  'ELEVATION', \n",
    "                     'THICKNESS', 'THICKNESS_UNCERTAINTY', 'DATA_FLAG', 'REMARKS']]\n",
    "\n",
    "data_new = data_new.sort_values(by=['GlaThiDa_ID','POINT_ID'])\n",
    "data_new.to_excel(os.path.join(os.path.dirname(file),file.split('.')[0]+'_thinned.xlsx'), index=False)"
   ]
  },
  {
   "cell_type": "code",
   "execution_count": null,
   "metadata": {
    "collapsed": true
   },
   "outputs": [],
   "source": []
  },
  {
   "cell_type": "code",
   "execution_count": null,
   "metadata": {
    "collapsed": true
   },
   "outputs": [],
   "source": []
  }
 ],
 "metadata": {
  "kernelspec": {
   "display_name": "Python 3",
   "language": "python",
   "name": "python3"
  },
  "language_info": {
   "codemirror_mode": {
    "name": "ipython",
    "version": 3
   },
   "file_extension": ".py",
   "mimetype": "text/x-python",
   "name": "python",
   "nbconvert_exporter": "python",
   "pygments_lexer": "ipython3",
   "version": "3.5.1"
  }
 },
 "nbformat": 4,
 "nbformat_minor": 0
}
