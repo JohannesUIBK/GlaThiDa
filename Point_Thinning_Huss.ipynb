{
 "cells": [
  {
   "cell_type": "code",
   "execution_count": 3,
   "metadata": {
    "collapsed": false
   },
   "outputs": [],
   "source": [
    "import pandas as pd\n",
    "from glob import glob\n",
    "import os\n",
    "import numpy as np"
   ]
  },
  {
   "cell_type": "code",
   "execution_count": 7,
   "metadata": {
    "collapsed": false
   },
   "outputs": [],
   "source": [
    "files = glob('C:\\\\Users\\\\jlandman\\\\Desktop\\\\newData\\\\CH_Huss-Fischer\\\\GlaThiDa2.0_UFR\\\\results\\\\t*_TTT.xlsx')"
   ]
  },
  {
   "cell_type": "code",
   "execution_count": 8,
   "metadata": {
    "collapsed": true
   },
   "outputs": [],
   "source": [
    "thin_dict = {'tortin': 6,\n",
    "             'tsanfleuron': 6,\n",
    "    \n",
    "}\n",
    "\n",
    "date_dict = {'tortin':20130399,\n",
    "            'tsanfleuron':20100399\n",
    "}\n"
   ]
  },
  {
   "cell_type": "code",
   "execution_count": 28,
   "metadata": {
    "collapsed": false
   },
   "outputs": [],
   "source": [
    "for file in files:\n",
    "    fname = os.path.basename(file)\n",
    "    data = pd.read_excel(file)\n",
    "    punit = data['POLITICAL_UNIT'].values[0]\n",
    "    gname = data['GLACIER_NAME'].values[0]\n",
    "\n",
    "    data = data.groupby(data.index // thin_dict[fname.split('_')[0]]).mean() # average over every x values as specified above\n",
    "    \n",
    "    data['POLITICAL_UNIT'] = punit\n",
    "    data['GLACIER_NAME'] = gname\n",
    "    \n",
    "    data['ELEVATION'] = data['ELEVATION'].map('{:.0f}'.format)\n",
    "    data['THICKNESS'] = data['THICKNESS'].map('{:.1f}'.format)\n",
    "    data['POINT_ID'] = range(1,len(data)+1)\n",
    "    \n",
    "    data = data[['POLITICAL_UNIT', 'GLACIER_NAME', 'SURVEY_DATE', 'POINT_ID',  'POINT_LAT',  'POINT_LON',  'ELEVATION', \n",
    "                 'THICKNESS', 'THICKNESS_UNCERTAINTY', 'DATA_FLAG', 'REMARKS']]\n",
    "    \n",
    "    data.to_excel(os.path.join(os.path.dirname(file),fname.split('.')[0]+'_thinned.xlsx'), index=False)"
   ]
  },
  {
   "cell_type": "code",
   "execution_count": null,
   "metadata": {
    "collapsed": true
   },
   "outputs": [],
   "source": []
  }
 ],
 "metadata": {
  "kernelspec": {
   "display_name": "Python 3",
   "language": "python",
   "name": "python3"
  },
  "language_info": {
   "codemirror_mode": {
    "name": "ipython",
    "version": 3
   },
   "file_extension": ".py",
   "mimetype": "text/x-python",
   "name": "python",
   "nbconvert_exporter": "python",
   "pygments_lexer": "ipython3",
   "version": "3.5.1"
  }
 },
 "nbformat": 4,
 "nbformat_minor": 0
}
