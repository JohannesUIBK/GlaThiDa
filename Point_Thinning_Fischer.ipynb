{
 "cells": [
  {
   "cell_type": "code",
   "execution_count": 56,
   "metadata": {
    "collapsed": false
   },
   "outputs": [],
   "source": [
    "import pandas as pd\n",
    "from glob import glob\n",
    "from simpledbf import Dbf5\n",
    "import os\n",
    "import pyproj\n",
    "import numpy as np"
   ]
  },
  {
   "cell_type": "code",
   "execution_count": 28,
   "metadata": {
    "collapsed": true
   },
   "outputs": [],
   "source": [
    "files = glob('C:\\\\Users\\\\jlandman\\\\Desktop\\\\newData\\\\AT-IT-KayHelfricht\\\\Fischer-etal-2015\\\\*ferner*\\\\*.dbf')"
   ]
  },
  {
   "cell_type": "code",
   "execution_count": 31,
   "metadata": {
    "collapsed": true
   },
   "outputs": [],
   "source": [
    "pop_list = ['Gliederferner', 'Langenferner', 'Rieserferner', 'Uebeltalferner', 'Weissbrunnferner', 'Weissbrunnferner1995']"
   ]
  },
  {
   "cell_type": "code",
   "execution_count": 74,
   "metadata": {
    "collapsed": false
   },
   "outputs": [
    {
     "data": {
      "text/plain": [
       "['C:\\\\Users\\\\jlandman\\\\Desktop\\\\newData\\\\AT-IT-KayHelfricht\\\\Fischer-etal-2015\\\\Feuersteinferner\\\\Feuersteinferner.dbf',\n",
       " 'C:\\\\Users\\\\jlandman\\\\Desktop\\\\newData\\\\AT-IT-KayHelfricht\\\\Fischer-etal-2015\\\\Grafferner\\\\Grafferner.dbf',\n",
       " 'C:\\\\Users\\\\jlandman\\\\Desktop\\\\newData\\\\AT-IT-KayHelfricht\\\\Fischer-etal-2015\\\\Hangendenferner\\\\Hangendenferner.dbf',\n",
       " 'C:\\\\Users\\\\jlandman\\\\Desktop\\\\newData\\\\AT-IT-KayHelfricht\\\\Fischer-etal-2015\\\\Hohenferner\\\\ed_Hohenferner.dbf',\n",
       " 'C:\\\\Users\\\\jlandman\\\\Desktop\\\\newData\\\\AT-IT-KayHelfricht\\\\Fischer-etal-2015\\\\Laaserferner\\\\Laaserferner.dbf',\n",
       " 'C:\\\\Users\\\\jlandman\\\\Desktop\\\\newData\\\\AT-IT-KayHelfricht\\\\Fischer-etal-2015\\\\Langtaufererferner\\\\Langtaufererferner.dbf',\n",
       " 'C:\\\\Users\\\\jlandman\\\\Desktop\\\\newData\\\\AT-IT-KayHelfricht\\\\Fischer-etal-2015\\\\Matscherferner\\\\Matscherferner.dbf',\n",
       " 'C:\\\\Users\\\\jlandman\\\\Desktop\\\\newData\\\\AT-IT-KayHelfricht\\\\Fischer-etal-2015\\\\Oberer_Ortlerferner\\\\obererOrtlerferner.dbf',\n",
       " 'C:\\\\Users\\\\jlandman\\\\Desktop\\\\newData\\\\AT-IT-KayHelfricht\\\\Fischer-etal-2015\\\\Schranferner\\\\Schranferner.dbf',\n",
       " 'C:\\\\Users\\\\jlandman\\\\Desktop\\\\newData\\\\AT-IT-KayHelfricht\\\\Fischer-etal-2015\\\\Suldenferner\\\\Suldenferner.dbf']"
      ]
     },
     "execution_count": 74,
     "metadata": {},
     "output_type": "execute_result"
    }
   ],
   "source": [
    "for i in files:\n",
    "    for j in pop_list:\n",
    "        if j in i:\n",
    "            files.remove(i)\n",
    "files"
   ]
  },
  {
   "cell_type": "code",
   "execution_count": 83,
   "metadata": {
    "collapsed": true
   },
   "outputs": [],
   "source": [
    "thin_dict = {'Feuersteinferner': 25,\n",
    "             'Grafferner': 15,\n",
    "             'Hangendenferner': 25,\n",
    "             'ed_Hohenferner':25,\n",
    "             'Laaserferner':65,\n",
    "             'Langtaufererferner':20,\n",
    "             'Matscherferner':20,\n",
    "             'obererOrtlerferner':2,\n",
    "             'Schranferner':10,\n",
    "             'Suldenferner':20\n",
    "    \n",
    "}\n",
    "\n",
    "date_dict = {'Feuersteinferner': 20130608,\n",
    "             'Grafferner': 20130612,\n",
    "             'Hangendenferner': 20130608,\n",
    "             'ed_Hohenferner':20130514,\n",
    "             'Laaserferner':20130513,\n",
    "             'Langtaufererferner':20130613,\n",
    "             'Matscherferner':20130612,\n",
    "             'obererOrtlerferner':np.nan,\n",
    "             'Schranferner':20130514,\n",
    "             'Suldenferner':20130611}\n"
   ]
  },
  {
   "cell_type": "code",
   "execution_count": 80,
   "metadata": {
    "collapsed": true
   },
   "outputs": [],
   "source": [
    "# Some constants\n",
    "gtd_id = np.nan # GlaThiDa_ID\n",
    "punit = 'IT' # political unit\n",
    "gname = ''\n",
    "pid = np.nan\n",
    "thickness_unc = np.nan\n",
    "data_flag = np.nan\n",
    "remarks = ''"
   ]
  },
  {
   "cell_type": "code",
   "execution_count": 81,
   "metadata": {
    "collapsed": false
   },
   "outputs": [],
   "source": [
    "utm32 = pyproj.Proj(init='epsg:32632') #WGS84 UTM32N\n",
    "latlon = pyproj.Proj(init='epsg:4326')  #WGS84 lat/lon"
   ]
  },
  {
   "cell_type": "code",
   "execution_count": 94,
   "metadata": {
    "collapsed": false
   },
   "outputs": [
    {
     "name": "stdout",
     "output_type": "stream",
     "text": [
      "Table obererOrtlerferner.dbf has no coordinates\n"
     ]
    }
   ],
   "source": [
    "for file in files:\n",
    "    fname = os.path.basename(file)\n",
    "    dbf = Dbf5(file)\n",
    "    data = dbf.to_dataframe()\n",
    "    data.columns = map(str.lower, data.columns) # make all columns lowercase, that's easier\n",
    "    data = data.groupby(data.index // thin_dict[fname.split('.')[0]]).mean() # average over every x values as specified above\n",
    "    \n",
    "    try:\n",
    "        # project UTM values to lat/lon\n",
    "        xs = data.x.values\n",
    "        ys = data.y.values\n",
    "        \n",
    "        x1,y1 = p1(xs, ys)\n",
    "        lons, lats = pyproj.transform(utm32,latlon,xs,ys)\n",
    "        \n",
    "        data['POINT_LAT'] = lats\n",
    "        data['POINT_LON'] = lons\n",
    "        \n",
    "        data['GlaThiDa_ID'] = gtd_id\n",
    "        data['POLITICAL_UNIT'] = punit\n",
    "        data['GLACIER_NAME'] = fname.split('.')[0].upper()\n",
    "        data['SURVEY_DATE'] = date_dict[fname.split('.')[0]]\n",
    "        data['POINT_ID'] = range(1,len(data)+1)\n",
    "        \n",
    "        try:\n",
    "            data['ELEVATION'] = (data['ed'] + data['ug']).map('{:.0f}'.format)\n",
    "        except KeyError:\n",
    "            data['ELEVATION'] = np.nan\n",
    "            \n",
    "        data['THICKNESS'] = data['ed'].map('{:.0f}'.format)\n",
    "        data['THICKNESS_UNCERTAINTY'] = thickness_unc\n",
    "        data['DATA_FLAG'] = data_flag\n",
    "        data['REMARKS'] = remarks + ' Every %s points from the original series have been averaged.' % thin_dict[fname.split('.')[0]]\n",
    "        \n",
    "        data = data[['GlaThiDa_ID','POLITICAL_UNIT','GLACIER_NAME','SURVEY_DATE','POINT_ID','POINT_LAT','POINT_LON',\n",
    "                     'ELEVATION','THICKNESS','THICKNESS_UNCERTAINTY','DATA_FLAG','REMARKS']]\n",
    "        data.to_excel(fname.split('.')[0]+'.xlsx', index=False)\n",
    "    except AttributeError:\n",
    "        print('Table %s has no coordinates' % fname)"
   ]
  },
  {
   "cell_type": "code",
   "execution_count": null,
   "metadata": {
    "collapsed": true
   },
   "outputs": [],
   "source": []
  }
 ],
 "metadata": {
  "kernelspec": {
   "display_name": "Python 3",
   "language": "python",
   "name": "python3"
  },
  "language_info": {
   "codemirror_mode": {
    "name": "ipython",
    "version": 3
   },
   "file_extension": ".py",
   "mimetype": "text/x-python",
   "name": "python",
   "nbconvert_exporter": "python",
   "pygments_lexer": "ipython3",
   "version": "3.5.1"
  }
 },
 "nbformat": 4,
 "nbformat_minor": 0
}
