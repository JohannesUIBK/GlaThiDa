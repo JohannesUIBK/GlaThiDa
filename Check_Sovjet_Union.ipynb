{
 "cells": [
  {
   "cell_type": "code",
   "execution_count": 5,
   "metadata": {
    "collapsed": true
   },
   "outputs": [],
   "source": [
    "import pandas as pd\n",
    "import geopandas as gpd\n",
    "import shapely.geometry as shpg\n",
    "import salem"
   ]
  },
  {
   "cell_type": "code",
   "execution_count": 9,
   "metadata": {
    "collapsed": false
   },
   "outputs": [],
   "source": [
    "t = pd.read_excel('C:\\\\Users\\\\jlandman\\\\Desktop\\\\NEW_GTD_20\\\\T_GTD20.xlsx', skiprows=2)"
   ]
  },
  {
   "cell_type": "code",
   "execution_count": 11,
   "metadata": {
    "collapsed": false
   },
   "outputs": [],
   "source": [
    "t = t[t.POLITICAL_UNIT == 'SU']"
   ]
  },
  {
   "cell_type": "code",
   "execution_count": null,
   "metadata": {
    "collapsed": true
   },
   "outputs": [],
   "source": [
    "shapes = salem.utils.read_shapefile('C:\\\\Users\\\\jlandman\\\\Desktop\\\\gadm28.shp\\\\gadm28.shp')"
   ]
  },
  {
   "cell_type": "code",
   "execution_count": null,
   "metadata": {
    "collapsed": true
   },
   "outputs": [],
   "source": [
    "shapes.columns.values"
   ]
  },
  {
   "cell_type": "code",
   "execution_count": null,
   "metadata": {
    "collapsed": true
   },
   "outputs": [],
   "source": [
    "lonmin, lonmax = 14., 180.\n",
    "latmin, latmax = 25., 90."
   ]
  },
  {
   "cell_type": "code",
   "execution_count": null,
   "metadata": {
    "collapsed": true
   },
   "outputs": [],
   "source": []
  },
  {
   "cell_type": "code",
   "execution_count": null,
   "metadata": {
    "collapsed": true
   },
   "outputs": [],
   "source": [
    "for k, row in t.iterrows():\n",
    "    gp = shpg.Point(row.LONGITUDE, row.LATITUDE)\n",
    "    for i, r in rgi_r.iterrows():\n",
    "        if r.geometry.contains(gp):\n",
    "            rgi_reg.append(r['Secondary_'])\n",
    "    assert len(rgi_reg) == 1\n",
    "    region_candidates.append(rgi_reg[0])\n",
    "    \n",
    "checkframe['RGI_REG'] = region_candidates"
   ]
  }
 ],
 "metadata": {
  "kernelspec": {
   "display_name": "Python 3",
   "language": "python",
   "name": "python3"
  },
  "language_info": {
   "codemirror_mode": {
    "name": "ipython",
    "version": 3
   },
   "file_extension": ".py",
   "mimetype": "text/x-python",
   "name": "python",
   "nbconvert_exporter": "python",
   "pygments_lexer": "ipython3",
   "version": "3.5.1"
  }
 },
 "nbformat": 4,
 "nbformat_minor": 0
}
