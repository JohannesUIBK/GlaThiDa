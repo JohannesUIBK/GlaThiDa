{
 "cells": [
  {
   "cell_type": "code",
   "execution_count": 11,
   "metadata": {
    "collapsed": false
   },
   "outputs": [],
   "source": [
    "import pandas as pd\n",
    "from glob import glob\n",
    "from simpledbf import Dbf5\n",
    "import os\n",
    "import pyproj\n",
    "import numpy as np\n",
    "import warnings"
   ]
  },
  {
   "cell_type": "code",
   "execution_count": 12,
   "metadata": {
    "collapsed": false
   },
   "outputs": [
    {
     "data": {
      "text/plain": [
       "['C:\\\\Users\\\\jlandman\\\\Desktop\\\\newData\\\\CL_Schaefer\\\\Schaefer_rawdata-chile\\\\DD\\\\bello.dbf',\n",
       " 'C:\\\\Users\\\\jlandman\\\\Desktop\\\\newData\\\\CL_Schaefer\\\\Schaefer_rawdata-chile\\\\DD\\\\callaqui.dbf',\n",
       " 'C:\\\\Users\\\\jlandman\\\\Desktop\\\\newData\\\\CL_Schaefer\\\\Schaefer_rawdata-chile\\\\DD\\\\cipreses_norte.dbf',\n",
       " 'C:\\\\Users\\\\jlandman\\\\Desktop\\\\newData\\\\CL_Schaefer\\\\Schaefer_rawdata-chile\\\\DD\\\\del_potro.dbf',\n",
       " 'C:\\\\Users\\\\jlandman\\\\Desktop\\\\newData\\\\CL_Schaefer\\\\Schaefer_rawdata-chile\\\\DD\\\\del_rincon.dbf',\n",
       " 'C:\\\\Users\\\\jlandman\\\\Desktop\\\\newData\\\\CL_Schaefer\\\\Schaefer_rawdata-chile\\\\DD\\\\echaurren.dbf',\n",
       " 'C:\\\\Users\\\\jlandman\\\\Desktop\\\\newData\\\\CL_Schaefer\\\\Schaefer_rawdata-chile\\\\DD\\\\esmeralda.dbf',\n",
       " 'C:\\\\Users\\\\jlandman\\\\Desktop\\\\newData\\\\CL_Schaefer\\\\Schaefer_rawdata-chile\\\\DD\\\\juncal_n.dbf',\n",
       " 'C:\\\\Users\\\\jlandman\\\\Desktop\\\\newData\\\\CL_Schaefer\\\\Schaefer_rawdata-chile\\\\DD\\\\la_paloma.dbf',\n",
       " 'C:\\\\Users\\\\jlandman\\\\Desktop\\\\newData\\\\CL_Schaefer\\\\Schaefer_rawdata-chile\\\\DD\\\\llaima.dbf',\n",
       " 'C:\\\\Users\\\\jlandman\\\\Desktop\\\\newData\\\\CL_Schaefer\\\\Schaefer_rawdata-chile\\\\DD\\\\marmolejo.dbf',\n",
       " 'C:\\\\Users\\\\jlandman\\\\Desktop\\\\newData\\\\CL_Schaefer\\\\Schaefer_rawdata-chile\\\\DD\\\\meson_alto.dbf',\n",
       " 'C:\\\\Users\\\\jlandman\\\\Desktop\\\\newData\\\\CL_Schaefer\\\\Schaefer_rawdata-chile\\\\DD\\\\mocho.dbf',\n",
       " 'C:\\\\Users\\\\jlandman\\\\Desktop\\\\newData\\\\CL_Schaefer\\\\Schaefer_rawdata-chile\\\\DD\\\\mocho_terrestre.dbf',\n",
       " 'C:\\\\Users\\\\jlandman\\\\Desktop\\\\newData\\\\CL_Schaefer\\\\Schaefer_rawdata-chile\\\\DD\\\\osorno.dbf',\n",
       " 'C:\\\\Users\\\\jlandman\\\\Desktop\\\\newData\\\\CL_Schaefer\\\\Schaefer_rawdata-chile\\\\DD\\\\plomo.dbf',\n",
       " 'C:\\\\Users\\\\jlandman\\\\Desktop\\\\newData\\\\CL_Schaefer\\\\Schaefer_rawdata-chile\\\\DD\\\\rio_blanco.dbf',\n",
       " 'C:\\\\Users\\\\jlandman\\\\Desktop\\\\newData\\\\CL_Schaefer\\\\Schaefer_rawdata-chile\\\\DD\\\\san_francisco.dbf',\n",
       " 'C:\\\\Users\\\\jlandman\\\\Desktop\\\\newData\\\\CL_Schaefer\\\\Schaefer_rawdata-chile\\\\DD\\\\sollipulli.dbf',\n",
       " 'C:\\\\Users\\\\jlandman\\\\Desktop\\\\newData\\\\CL_Schaefer\\\\Schaefer_rawdata-chile\\\\DD\\\\s_velluda.dbf',\n",
       " 'C:\\\\Users\\\\jlandman\\\\Desktop\\\\newData\\\\CL_Schaefer\\\\Schaefer_rawdata-chile\\\\DD\\\\tapado.dbf',\n",
       " 'C:\\\\Users\\\\jlandman\\\\Desktop\\\\newData\\\\CL_Schaefer\\\\Schaefer_rawdata-chile\\\\DD\\\\tapado_terrestre.dbf',\n",
       " 'C:\\\\Users\\\\jlandman\\\\Desktop\\\\newData\\\\CL_Schaefer\\\\Schaefer_rawdata-chile\\\\DD\\\\tinguiririca_1.dbf',\n",
       " 'C:\\\\Users\\\\jlandman\\\\Desktop\\\\newData\\\\CL_Schaefer\\\\Schaefer_rawdata-chile\\\\DD\\\\tinguiririca_3.dbf',\n",
       " 'C:\\\\Users\\\\jlandman\\\\Desktop\\\\newData\\\\CL_Schaefer\\\\Schaefer_rawdata-chile\\\\DD\\\\tinguiririca_4.dbf',\n",
       " 'C:\\\\Users\\\\jlandman\\\\Desktop\\\\newData\\\\CL_Schaefer\\\\Schaefer_rawdata-chile\\\\DD\\\\tronador.dbf',\n",
       " 'C:\\\\Users\\\\jlandman\\\\Desktop\\\\newData\\\\CL_Schaefer\\\\Schaefer_rawdata-chile\\\\DD\\\\tronquitos.dbf',\n",
       " 'C:\\\\Users\\\\jlandman\\\\Desktop\\\\newData\\\\CL_Schaefer\\\\Schaefer_rawdata-chile\\\\DD\\\\tupungatito.dbf',\n",
       " 'C:\\\\Users\\\\jlandman\\\\Desktop\\\\newData\\\\CL_Schaefer\\\\Schaefer_rawdata-chile\\\\DD\\\\tupungatito_terrestre.dbf',\n",
       " 'C:\\\\Users\\\\jlandman\\\\Desktop\\\\newData\\\\CL_Schaefer\\\\Schaefer_rawdata-chile\\\\DD\\\\universidad.dbf',\n",
       " 'C:\\\\Users\\\\jlandman\\\\Desktop\\\\newData\\\\CL_Schaefer\\\\Schaefer_rawdata-chile\\\\DD\\\\villarrica.dbf',\n",
       " 'C:\\\\Users\\\\jlandman\\\\Desktop\\\\newData\\\\CL_Schaefer\\\\Schaefer_rawdata-chile\\\\DD\\\\villarrica_terrestre.dbf',\n",
       " 'C:\\\\Users\\\\jlandman\\\\Desktop\\\\newData\\\\CL_Schaefer\\\\Schaefer_rawdata-chile\\\\DD\\\\yeso.dbf',\n",
       " 'C:\\\\Users\\\\jlandman\\\\Desktop\\\\newData\\\\CL_Schaefer\\\\Schaefer_rawdata-chile\\\\DD\\\\yeso_2.dbf']"
      ]
     },
     "execution_count": 12,
     "metadata": {},
     "output_type": "execute_result"
    }
   ],
   "source": [
    "files = glob('C:\\\\Users\\\\jlandman\\\\Desktop\\\\newData\\\\CL_Schaefer\\\\Schaefer_rawdata-chile\\\\DD\\\\*.dbf')\n",
    "files"
   ]
  },
  {
   "cell_type": "markdown",
   "metadata": {},
   "source": [
    "# Echaurren and Plomo have no GENERAL entry by M. Schaefer"
   ]
  },
  {
   "cell_type": "code",
   "execution_count": 13,
   "metadata": {
    "collapsed": true
   },
   "outputs": [],
   "source": [
    "pop_list = ['del_potro','tronquitos','apado','juncal_n','rio_blanco','tupungatito','marmolejo', 'echaurren', 'terrestre'] "
   ]
  },
  {
   "cell_type": "code",
   "execution_count": 14,
   "metadata": {
    "collapsed": false
   },
   "outputs": [
    {
     "name": "stdout",
     "output_type": "stream",
     "text": [
      "C:\\Users\\jlandman\\Desktop\\newData\\CL_Schaefer\\Schaefer_rawdata-chile\\DD\\bello.dbf\n",
      "C:\\Users\\jlandman\\Desktop\\newData\\CL_Schaefer\\Schaefer_rawdata-chile\\DD\\callaqui.dbf\n",
      "C:\\Users\\jlandman\\Desktop\\newData\\CL_Schaefer\\Schaefer_rawdata-chile\\DD\\cipreses_norte.dbf\n",
      "C:\\Users\\jlandman\\Desktop\\newData\\CL_Schaefer\\Schaefer_rawdata-chile\\DD\\del_potro.dbf\n",
      "C:\\Users\\jlandman\\Desktop\\newData\\CL_Schaefer\\Schaefer_rawdata-chile\\DD\\echaurren.dbf\n",
      "C:\\Users\\jlandman\\Desktop\\newData\\CL_Schaefer\\Schaefer_rawdata-chile\\DD\\juncal_n.dbf\n",
      "C:\\Users\\jlandman\\Desktop\\newData\\CL_Schaefer\\Schaefer_rawdata-chile\\DD\\llaima.dbf\n",
      "C:\\Users\\jlandman\\Desktop\\newData\\CL_Schaefer\\Schaefer_rawdata-chile\\DD\\marmolejo.dbf\n",
      "C:\\Users\\jlandman\\Desktop\\newData\\CL_Schaefer\\Schaefer_rawdata-chile\\DD\\mocho.dbf\n",
      "C:\\Users\\jlandman\\Desktop\\newData\\CL_Schaefer\\Schaefer_rawdata-chile\\DD\\mocho_terrestre.dbf\n",
      "C:\\Users\\jlandman\\Desktop\\newData\\CL_Schaefer\\Schaefer_rawdata-chile\\DD\\plomo.dbf\n",
      "C:\\Users\\jlandman\\Desktop\\newData\\CL_Schaefer\\Schaefer_rawdata-chile\\DD\\rio_blanco.dbf\n",
      "C:\\Users\\jlandman\\Desktop\\newData\\CL_Schaefer\\Schaefer_rawdata-chile\\DD\\sollipulli.dbf\n",
      "C:\\Users\\jlandman\\Desktop\\newData\\CL_Schaefer\\Schaefer_rawdata-chile\\DD\\s_velluda.dbf\n",
      "C:\\Users\\jlandman\\Desktop\\newData\\CL_Schaefer\\Schaefer_rawdata-chile\\DD\\tapado.dbf\n",
      "C:\\Users\\jlandman\\Desktop\\newData\\CL_Schaefer\\Schaefer_rawdata-chile\\DD\\tinguiririca_1.dbf\n",
      "C:\\Users\\jlandman\\Desktop\\newData\\CL_Schaefer\\Schaefer_rawdata-chile\\DD\\tinguiririca_3.dbf\n",
      "C:\\Users\\jlandman\\Desktop\\newData\\CL_Schaefer\\Schaefer_rawdata-chile\\DD\\tinguiririca_4.dbf\n",
      "C:\\Users\\jlandman\\Desktop\\newData\\CL_Schaefer\\Schaefer_rawdata-chile\\DD\\tronador.dbf\n",
      "C:\\Users\\jlandman\\Desktop\\newData\\CL_Schaefer\\Schaefer_rawdata-chile\\DD\\tronquitos.dbf\n",
      "C:\\Users\\jlandman\\Desktop\\newData\\CL_Schaefer\\Schaefer_rawdata-chile\\DD\\tupungatito_terrestre.dbf\n"
     ]
    },
    {
     "ename": "ValueError",
     "evalue": "list.remove(x): x not in list",
     "output_type": "error",
     "traceback": [
      "\u001b[1;31m---------------------------------------------------------------------------\u001b[0m",
      "\u001b[1;31mValueError\u001b[0m                                Traceback (most recent call last)",
      "\u001b[1;32m<ipython-input-14-866401fd24c5>\u001b[0m in \u001b[0;36m<module>\u001b[1;34m()\u001b[0m\n\u001b[0;32m      3\u001b[0m     \u001b[1;32mfor\u001b[0m \u001b[0mj\u001b[0m \u001b[1;32min\u001b[0m \u001b[0mpop_list\u001b[0m\u001b[1;33m:\u001b[0m\u001b[1;33m\u001b[0m\u001b[0m\n\u001b[0;32m      4\u001b[0m         \u001b[1;32mif\u001b[0m \u001b[0mj\u001b[0m \u001b[1;32min\u001b[0m \u001b[0mi\u001b[0m\u001b[1;33m:\u001b[0m\u001b[1;33m\u001b[0m\u001b[0m\n\u001b[1;32m----> 5\u001b[1;33m             \u001b[0mfiles\u001b[0m\u001b[1;33m.\u001b[0m\u001b[0mremove\u001b[0m\u001b[1;33m(\u001b[0m\u001b[0mi\u001b[0m\u001b[1;33m)\u001b[0m\u001b[1;33m\u001b[0m\u001b[0m\n\u001b[0m\u001b[0;32m      6\u001b[0m \u001b[0mfiles\u001b[0m\u001b[1;33m\u001b[0m\u001b[0m\n",
      "\u001b[1;31mValueError\u001b[0m: list.remove(x): x not in list"
     ]
    }
   ],
   "source": [
    "for i in files:\n",
    "    print(i)\n",
    "    for j in pop_list:\n",
    "        if j in i:\n",
    "            files.remove(i)\n",
    "files"
   ]
  },
  {
   "cell_type": "code",
   "execution_count": 15,
   "metadata": {
    "collapsed": true
   },
   "outputs": [],
   "source": [
    "thin_dict = {'bello':11,\n",
    "             'callaqui':21,\n",
    "             'cipreses_norte':43,\n",
    "             'del_rincon':4,\n",
    "             'echaurren':1,\n",
    "             'esmeralda':15,\n",
    "             'la_paloma':7,\n",
    "             'llaima':16,\n",
    "             'meson_alto':11,\n",
    "             'mocho':28,\n",
    "             'mocho_terrestre':4,\n",
    "             'osorno':37,\n",
    "             'plomo':9,\n",
    "             'san_francisco':4,\n",
    "             'sollipulli':9,\n",
    "             's_velluda':32,\n",
    "             'tinguiririca_1':16,\n",
    "             'tinguiririca_3':12,\n",
    "             'tinguiririca_4':9,\n",
    "             'tronador':18,\n",
    "             'universidad':20,\n",
    "             'villarrica':44,\n",
    "             'villarrica_terrestre':5,\n",
    "             'yeso':9,\n",
    "             'yeso_2':4\n",
    "             }\n",
    "\n",
    "name_dict = {'bello':'Bello',\n",
    "             'callaqui':'Callaqui',\n",
    "             'cipreses_norte':'Cipreses Norte',\n",
    "             'del_rincon':'Del Rincon',\n",
    "             'echaurren':'Echaurren',\n",
    "             'esmeralda':'Esmeralda',\n",
    "             'la_paloma':'La Paloma',\n",
    "             'llaima':'Llaima',\n",
    "             'meson_alto':'Meson Alto',\n",
    "             'mocho':'Mocho-Chosh',\n",
    "             'mocho_terrestre':'Mocho-Chosh',\n",
    "             'osorno':'Osorno',\n",
    "             'plomo':'Cerro el Plomo',\n",
    "             'san_francisco':'San Francisco',\n",
    "             'sollipulli':'Sollipulli',\n",
    "             's_velluda':'Velluda',\n",
    "             'tinguiririca_1':'Tinguiririca 1',\n",
    "             'tinguiririca_3':'Tinguiririca 3',\n",
    "             'tinguiririca_4':'Tinguiririca 4',\n",
    "             'tronador':'Tronador',\n",
    "             'universidad':'Universidad',\n",
    "             'villarrica':'Villarrica',\n",
    "             'villarrica_terrestre':'Villarrica',\n",
    "             'yeso':'Yeso',\n",
    "             'yeso_2':'Yeso 2'\n",
    "             }"
   ]
  },
  {
   "cell_type": "code",
   "execution_count": 16,
   "metadata": {
    "collapsed": false
   },
   "outputs": [],
   "source": [
    "# read the T table\n",
    "general = pd.read_excel('C:\\\\Users\\\\jlandman\\\\Desktop\\\\newData\\\\CL_Schaefer\\\\GlaThiDa2-0_MS_Johannes.xls')"
   ]
  },
  {
   "cell_type": "code",
   "execution_count": 17,
   "metadata": {
    "collapsed": false
   },
   "outputs": [
    {
     "name": "stdout",
     "output_type": "stream",
     "text": [
      "bello.dbf\n"
     ]
    },
    {
     "ename": "IndexError",
     "evalue": "single positional indexer is out-of-bounds",
     "output_type": "error",
     "traceback": [
      "\u001b[1;31m---------------------------------------------------------------------------\u001b[0m",
      "\u001b[1;31mIndexError\u001b[0m                                Traceback (most recent call last)",
      "\u001b[1;32m<ipython-input-17-0997804a59a9>\u001b[0m in \u001b[0;36m<module>\u001b[1;34m()\u001b[0m\n\u001b[0;32m     37\u001b[0m     \u001b[0mnew_data\u001b[0m\u001b[1;33m[\u001b[0m\u001b[1;34m'ELEVATION'\u001b[0m\u001b[1;33m]\u001b[0m \u001b[1;33m=\u001b[0m \u001b[0mnp\u001b[0m\u001b[1;33m.\u001b[0m\u001b[0mnan\u001b[0m\u001b[1;33m\u001b[0m\u001b[0m\n\u001b[0;32m     38\u001b[0m     \u001b[0mnew_data\u001b[0m\u001b[1;33m[\u001b[0m\u001b[1;34m'THICKNESS_UNCERTAINTY'\u001b[0m\u001b[1;33m]\u001b[0m \u001b[1;33m=\u001b[0m \u001b[0mnp\u001b[0m\u001b[1;33m.\u001b[0m\u001b[0mnan\u001b[0m\u001b[1;33m\u001b[0m\u001b[0m\n\u001b[1;32m---> 39\u001b[1;33m     \u001b[0mnew_data\u001b[0m\u001b[1;33m[\u001b[0m\u001b[1;34m'GLACIER_NAME'\u001b[0m\u001b[1;33m]\u001b[0m \u001b[1;33m=\u001b[0m \u001b[0mgeneral\u001b[0m\u001b[1;33m[\u001b[0m\u001b[0mgeneral\u001b[0m\u001b[1;33m.\u001b[0m\u001b[0mGLACIER_NAME\u001b[0m \u001b[1;33m==\u001b[0m \u001b[0mname_dict\u001b[0m\u001b[1;33m[\u001b[0m\u001b[0mos\u001b[0m\u001b[1;33m.\u001b[0m\u001b[0mpath\u001b[0m\u001b[1;33m.\u001b[0m\u001b[0msplit\u001b[0m\u001b[1;33m(\u001b[0m\u001b[0mfile\u001b[0m\u001b[1;33m)\u001b[0m\u001b[1;33m[\u001b[0m\u001b[1;36m1\u001b[0m\u001b[1;33m]\u001b[0m\u001b[1;33m.\u001b[0m\u001b[0msplit\u001b[0m\u001b[1;33m(\u001b[0m\u001b[1;34m'.'\u001b[0m\u001b[1;33m)\u001b[0m\u001b[1;33m[\u001b[0m\u001b[1;36m0\u001b[0m\u001b[1;33m]\u001b[0m\u001b[1;33m]\u001b[0m\u001b[1;33m]\u001b[0m\u001b[1;33m.\u001b[0m\u001b[0mGLACIER_NAME\u001b[0m\u001b[1;33m.\u001b[0m\u001b[0miloc\u001b[0m\u001b[1;33m[\u001b[0m\u001b[1;36m0\u001b[0m\u001b[1;33m]\u001b[0m\u001b[1;33m\u001b[0m\u001b[0m\n\u001b[0m\u001b[0;32m     40\u001b[0m     \u001b[0mnew_data\u001b[0m\u001b[1;33m[\u001b[0m\u001b[1;34m'GlaThiDa_ID'\u001b[0m\u001b[1;33m]\u001b[0m \u001b[1;33m=\u001b[0m \u001b[0mgeneral\u001b[0m\u001b[1;33m[\u001b[0m\u001b[0mgeneral\u001b[0m\u001b[1;33m.\u001b[0m\u001b[0mGLACIER_NAME\u001b[0m \u001b[1;33m==\u001b[0m \u001b[0mname_dict\u001b[0m\u001b[1;33m[\u001b[0m\u001b[0mos\u001b[0m\u001b[1;33m.\u001b[0m\u001b[0mpath\u001b[0m\u001b[1;33m.\u001b[0m\u001b[0msplit\u001b[0m\u001b[1;33m(\u001b[0m\u001b[0mfile\u001b[0m\u001b[1;33m)\u001b[0m\u001b[1;33m[\u001b[0m\u001b[1;36m1\u001b[0m\u001b[1;33m]\u001b[0m\u001b[1;33m.\u001b[0m\u001b[0msplit\u001b[0m\u001b[1;33m(\u001b[0m\u001b[1;34m'.'\u001b[0m\u001b[1;33m)\u001b[0m\u001b[1;33m[\u001b[0m\u001b[1;36m0\u001b[0m\u001b[1;33m]\u001b[0m\u001b[1;33m]\u001b[0m\u001b[1;33m]\u001b[0m\u001b[1;33m.\u001b[0m\u001b[0mGlaThiDa_ID\u001b[0m\u001b[1;33m.\u001b[0m\u001b[0miloc\u001b[0m\u001b[1;33m[\u001b[0m\u001b[1;36m0\u001b[0m\u001b[1;33m]\u001b[0m\u001b[1;33m\u001b[0m\u001b[0m\n\u001b[0;32m     41\u001b[0m     \u001b[0mnew_data\u001b[0m\u001b[1;33m[\u001b[0m\u001b[1;34m'POLITICAL_UNIT'\u001b[0m\u001b[1;33m]\u001b[0m \u001b[1;33m=\u001b[0m \u001b[0mgeneral\u001b[0m\u001b[1;33m[\u001b[0m\u001b[0mgeneral\u001b[0m\u001b[1;33m.\u001b[0m\u001b[0mGLACIER_NAME\u001b[0m \u001b[1;33m==\u001b[0m \u001b[0mname_dict\u001b[0m\u001b[1;33m[\u001b[0m\u001b[0mos\u001b[0m\u001b[1;33m.\u001b[0m\u001b[0mpath\u001b[0m\u001b[1;33m.\u001b[0m\u001b[0msplit\u001b[0m\u001b[1;33m(\u001b[0m\u001b[0mfile\u001b[0m\u001b[1;33m)\u001b[0m\u001b[1;33m[\u001b[0m\u001b[1;36m1\u001b[0m\u001b[1;33m]\u001b[0m\u001b[1;33m.\u001b[0m\u001b[0msplit\u001b[0m\u001b[1;33m(\u001b[0m\u001b[1;34m'.'\u001b[0m\u001b[1;33m)\u001b[0m\u001b[1;33m[\u001b[0m\u001b[1;36m0\u001b[0m\u001b[1;33m]\u001b[0m\u001b[1;33m]\u001b[0m\u001b[1;33m]\u001b[0m\u001b[1;33m.\u001b[0m\u001b[0mPOLITICAL_UNIT\u001b[0m\u001b[1;33m.\u001b[0m\u001b[0miloc\u001b[0m\u001b[1;33m[\u001b[0m\u001b[1;36m0\u001b[0m\u001b[1;33m]\u001b[0m\u001b[1;33m\u001b[0m\u001b[0m\n",
      "\u001b[1;32mC:\\Users\\jlandman\\Anaconda3\\lib\\site-packages\\pandas\\core\\indexing.py\u001b[0m in \u001b[0;36m__getitem__\u001b[1;34m(self, key)\u001b[0m\n\u001b[0;32m   1284\u001b[0m             \u001b[1;32mreturn\u001b[0m \u001b[0mself\u001b[0m\u001b[1;33m.\u001b[0m\u001b[0m_getitem_tuple\u001b[0m\u001b[1;33m(\u001b[0m\u001b[0mkey\u001b[0m\u001b[1;33m)\u001b[0m\u001b[1;33m\u001b[0m\u001b[0m\n\u001b[0;32m   1285\u001b[0m         \u001b[1;32melse\u001b[0m\u001b[1;33m:\u001b[0m\u001b[1;33m\u001b[0m\u001b[0m\n\u001b[1;32m-> 1286\u001b[1;33m             \u001b[1;32mreturn\u001b[0m \u001b[0mself\u001b[0m\u001b[1;33m.\u001b[0m\u001b[0m_getitem_axis\u001b[0m\u001b[1;33m(\u001b[0m\u001b[0mkey\u001b[0m\u001b[1;33m,\u001b[0m \u001b[0maxis\u001b[0m\u001b[1;33m=\u001b[0m\u001b[1;36m0\u001b[0m\u001b[1;33m)\u001b[0m\u001b[1;33m\u001b[0m\u001b[0m\n\u001b[0m\u001b[0;32m   1287\u001b[0m \u001b[1;33m\u001b[0m\u001b[0m\n\u001b[0;32m   1288\u001b[0m     \u001b[1;32mdef\u001b[0m \u001b[0m_getitem_axis\u001b[0m\u001b[1;33m(\u001b[0m\u001b[0mself\u001b[0m\u001b[1;33m,\u001b[0m \u001b[0mkey\u001b[0m\u001b[1;33m,\u001b[0m \u001b[0maxis\u001b[0m\u001b[1;33m=\u001b[0m\u001b[1;36m0\u001b[0m\u001b[1;33m)\u001b[0m\u001b[1;33m:\u001b[0m\u001b[1;33m\u001b[0m\u001b[0m\n",
      "\u001b[1;32mC:\\Users\\jlandman\\Anaconda3\\lib\\site-packages\\pandas\\core\\indexing.py\u001b[0m in \u001b[0;36m_getitem_axis\u001b[1;34m(self, key, axis)\u001b[0m\n\u001b[0;32m   1571\u001b[0m \u001b[1;33m\u001b[0m\u001b[0m\n\u001b[0;32m   1572\u001b[0m                 \u001b[1;31m# validate the location\u001b[0m\u001b[1;33m\u001b[0m\u001b[1;33m\u001b[0m\u001b[0m\n\u001b[1;32m-> 1573\u001b[1;33m                 \u001b[0mself\u001b[0m\u001b[1;33m.\u001b[0m\u001b[0m_is_valid_integer\u001b[0m\u001b[1;33m(\u001b[0m\u001b[0mkey\u001b[0m\u001b[1;33m,\u001b[0m \u001b[0maxis\u001b[0m\u001b[1;33m)\u001b[0m\u001b[1;33m\u001b[0m\u001b[0m\n\u001b[0m\u001b[0;32m   1574\u001b[0m \u001b[1;33m\u001b[0m\u001b[0m\n\u001b[0;32m   1575\u001b[0m             \u001b[1;32mreturn\u001b[0m \u001b[0mself\u001b[0m\u001b[1;33m.\u001b[0m\u001b[0m_get_loc\u001b[0m\u001b[1;33m(\u001b[0m\u001b[0mkey\u001b[0m\u001b[1;33m,\u001b[0m \u001b[0maxis\u001b[0m\u001b[1;33m=\u001b[0m\u001b[0maxis\u001b[0m\u001b[1;33m)\u001b[0m\u001b[1;33m\u001b[0m\u001b[0m\n",
      "\u001b[1;32mC:\\Users\\jlandman\\Anaconda3\\lib\\site-packages\\pandas\\core\\indexing.py\u001b[0m in \u001b[0;36m_is_valid_integer\u001b[1;34m(self, key, axis)\u001b[0m\n\u001b[0;32m   1485\u001b[0m         \u001b[0ml\u001b[0m \u001b[1;33m=\u001b[0m \u001b[0mlen\u001b[0m\u001b[1;33m(\u001b[0m\u001b[0max\u001b[0m\u001b[1;33m)\u001b[0m\u001b[1;33m\u001b[0m\u001b[0m\n\u001b[0;32m   1486\u001b[0m         \u001b[1;32mif\u001b[0m \u001b[0mkey\u001b[0m \u001b[1;33m>=\u001b[0m \u001b[0ml\u001b[0m \u001b[1;32mor\u001b[0m \u001b[0mkey\u001b[0m \u001b[1;33m<\u001b[0m \u001b[1;33m-\u001b[0m\u001b[0ml\u001b[0m\u001b[1;33m:\u001b[0m\u001b[1;33m\u001b[0m\u001b[0m\n\u001b[1;32m-> 1487\u001b[1;33m             \u001b[1;32mraise\u001b[0m \u001b[0mIndexError\u001b[0m\u001b[1;33m(\u001b[0m\u001b[1;34m\"single positional indexer is out-of-bounds\"\u001b[0m\u001b[1;33m)\u001b[0m\u001b[1;33m\u001b[0m\u001b[0m\n\u001b[0m\u001b[0;32m   1488\u001b[0m         \u001b[1;32mreturn\u001b[0m \u001b[1;32mTrue\u001b[0m\u001b[1;33m\u001b[0m\u001b[0m\n\u001b[0;32m   1489\u001b[0m \u001b[1;33m\u001b[0m\u001b[0m\n",
      "\u001b[1;31mIndexError\u001b[0m: single positional indexer is out-of-bounds"
     ]
    }
   ],
   "source": [
    "for file in files:\n",
    "    new_data = pd.DataFrame([])\n",
    "    fname = os.path.basename(file)\n",
    "    dbf = Dbf5(file)\n",
    "    data = dbf.to_dataframe()\n",
    "    print(fname)\n",
    "    # old point thinning\n",
    "    # data = data.groupby(data.index // thin_dict[fname.split('.')[0]]).mean() # average over every x values as specified above\n",
    "    \n",
    "    # ice thickness\n",
    "    try:\n",
    "        new_data['THICKNESS'] = data['esp'].map('{:.1f}'.format)\n",
    "    except KeyError:\n",
    "        try:\n",
    "            new_data['THICKNESS'] = data['Espesor'].map('{:.1f}'.format)\n",
    "        except KeyError:\n",
    "            new_data['THICKNESS'] = data['Esp'].map('{:.1f}'.format)\n",
    "            \n",
    "    # lat\n",
    "    try:\n",
    "        new_data['POINT_LAT'] = data['y'].map('{:.4f}'.format)\n",
    "    except KeyError:\n",
    "        try:\n",
    "            new_data['POINT_LAT'] = data['Norte'].map('{:.4f}'.format)\n",
    "        except KeyError:\n",
    "            new_data['POINT_LAT'] = data['N'].map('{:.4f}'.format)\n",
    "        \n",
    "    # lon\n",
    "    try:\n",
    "        new_data['POINT_LON'] = data['x'].map('{:.4f}'.format)\n",
    "    except KeyError:\n",
    "        try:\n",
    "            new_data['POINT_LON'] = data['Este'].map('{:.4f}'.format)\n",
    "        except KeyError:\n",
    "            new_data['POINT_LON'] = data['E'].map('{:.4f}'.format)\n",
    "    \n",
    "    new_data['ELEVATION'] = np.nan\n",
    "    new_data['THICKNESS_UNCERTAINTY'] = np.nan\n",
    "    new_data['GLACIER_NAME'] = general[general.GLACIER_NAME == name_dict[os.path.split(file)[1].split('.')[0]]].GLACIER_NAME.iloc[0]\n",
    "    new_data['GlaThiDa_ID'] = general[general.GLACIER_NAME == name_dict[os.path.split(file)[1].split('.')[0]]].GlaThiDa_ID.iloc[0]\n",
    "    new_data['POLITICAL_UNIT'] = general[general.GLACIER_NAME == name_dict[os.path.split(file)[1].split('.')[0]]].POLITICAL_UNIT.iloc[0]\n",
    "    new_data['SURVEY_DATE'] = general[general.GLACIER_NAME == name_dict[os.path.split(file)[1].split('.')[0]]].SURVEY_DATE.iloc[0]\n",
    "    new_data['POINT_ID'] = range(1, len(new_data)+1)\n",
    "    new_data['DATA_FLAG'] = np.nan\n",
    "    new_data['REMARKS'] = 'Point data have been thinned (mean) within a search distance of %s m.' % search_dist\n",
    "    \n",
    "    new_data = new_data[['GlaThiDa_ID','POLITICAL_UNIT','GLACIER_NAME','SURVEY_DATE','POINT_ID','POINT_LAT','POINT_LON',\n",
    "                         'ELEVATION','THICKNESS','THICKNESS_UNCERTAINTY','DATA_FLAG','REMARKS']]\n",
    "\n",
    "    new_data.to_excel(os.path.join(os.path.dirname(file),fname.split('.')[0]+'.xls'), index=False)"
   ]
  },
  {
   "cell_type": "code",
   "execution_count": null,
   "metadata": {
    "collapsed": true
   },
   "outputs": [],
   "source": []
  }
 ],
 "metadata": {
  "kernelspec": {
   "display_name": "Python 3",
   "language": "python",
   "name": "python3"
  },
  "language_info": {
   "codemirror_mode": {
    "name": "ipython",
    "version": 3
   },
   "file_extension": ".py",
   "mimetype": "text/x-python",
   "name": "python",
   "nbconvert_exporter": "python",
   "pygments_lexer": "ipython3",
   "version": "3.5.1"
  }
 },
 "nbformat": 4,
 "nbformat_minor": 0
}
