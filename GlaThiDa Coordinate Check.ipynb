{
 "cells": [
  {
   "cell_type": "markdown",
   "metadata": {},
   "source": [
    "# Modules"
   ]
  },
  {
   "cell_type": "code",
   "execution_count": 80,
   "metadata": {
    "collapsed": false
   },
   "outputs": [],
   "source": [
    "import pandas as pd\n",
    "import numpy as np\n",
    "import collections\n",
    "from salem import datasets\n",
    "import salem\n",
    "from cleo import Map\n",
    "import geopandas as gpd\n",
    "import shapely.geometry as shpg\n",
    "import shapely.ops\n",
    "import matplotlib.pyplot as plt\n",
    "from glob import glob\n",
    "import os"
   ]
  },
  {
   "cell_type": "markdown",
   "metadata": {},
   "source": [
    "# Paths"
   ]
  },
  {
   "cell_type": "code",
   "execution_count": 81,
   "metadata": {
    "collapsed": true
   },
   "outputs": [],
   "source": [
    "t_path = 'C:\\\\Users\\\\jlandman\\\\Desktop\\\\GlaThiDa_2014\\\\T.csv'\n",
    "tt_path = 'C:\\\\Users\\\\jlandman\\\\Desktop\\\\GlaThiDa_2014\\\\TT.csv'\n",
    "ttt_path = 'C:\\\\Users\\\\jlandman\\\\Desktop\\\\GlaThiDa_2014\\\\TTT.csv'\n",
    "rgi_dir = 'C:\\\\Users\\\\jlandman\\\\Desktop\\\\rgi50\\\\'"
   ]
  },
  {
   "cell_type": "markdown",
   "metadata": {},
   "source": [
    "# Read files"
   ]
  },
  {
   "cell_type": "code",
   "execution_count": 82,
   "metadata": {
    "collapsed": false
   },
   "outputs": [],
   "source": [
    "pdrgi = gpd.read_file(rgi_path)"
   ]
  },
  {
   "cell_type": "code",
   "execution_count": 104,
   "metadata": {
    "collapsed": false
   },
   "outputs": [],
   "source": [
    "t = pd.read_csv(t_path, skiprows=[0,1,3], encoding='iso8859_15', sep=';',low_memory=False)\n",
    "tt = pd.read_csv(tt_path, skiprows=[0,1,3], encoding='iso8859_15', sep=';',low_memory=False)\n",
    "ttt = pd.read_csv(ttt_path, skiprows=[0,1,3], encoding='iso8859_15', sep=';',low_memory=False)"
   ]
  },
  {
   "cell_type": "markdown",
   "metadata": {},
   "source": [
    "# Remove NaN lines"
   ]
  },
  {
   "cell_type": "code",
   "execution_count": 105,
   "metadata": {
    "collapsed": false
   },
   "outputs": [
    {
     "data": {
      "text/html": [
       "<div>\n",
       "<table border=\"1\" class=\"dataframe\">\n",
       "  <thead>\n",
       "    <tr style=\"text-align: right;\">\n",
       "      <th></th>\n",
       "      <th>GlaThiDa_ID</th>\n",
       "      <th>POLITICAL_UNIT</th>\n",
       "      <th>GLACIER_NAME</th>\n",
       "      <th>SOURCE_ID</th>\n",
       "      <th>ID</th>\n",
       "      <th>LAT</th>\n",
       "      <th>LON</th>\n",
       "      <th>YEAR</th>\n",
       "      <th>AREA</th>\n",
       "      <th>MEAN_SLOPE</th>\n",
       "      <th>...</th>\n",
       "      <th>SURVEY_DATE</th>\n",
       "      <th>SURVEY_METHOD</th>\n",
       "      <th>NUMBER_OF_SURVEY_POINTS</th>\n",
       "      <th>NUMBER_OF_SURVEY_PROFILES</th>\n",
       "      <th>TOTAL_LENGTH_OF_SURVEY_PROFILES</th>\n",
       "      <th>INTERPOLATION_METHOD</th>\n",
       "      <th>INVESTIGATOR</th>\n",
       "      <th>SPONSORING_AGENCY</th>\n",
       "      <th>REFERENCES</th>\n",
       "      <th>REMARKS</th>\n",
       "    </tr>\n",
       "  </thead>\n",
       "  <tbody>\n",
       "    <tr>\n",
       "      <th>0</th>\n",
       "      <td>1.0</td>\n",
       "      <td>SE</td>\n",
       "      <td>ISFALLSGLAC</td>\n",
       "      <td>WGI</td>\n",
       "      <td>SE4B000E0006</td>\n",
       "      <td>67.915</td>\n",
       "      <td>18.5680</td>\n",
       "      <td>1979.0</td>\n",
       "      <td>1.3</td>\n",
       "      <td>NaN</td>\n",
       "      <td>...</td>\n",
       "      <td>19790399.0</td>\n",
       "      <td>GPRt</td>\n",
       "      <td>NaN</td>\n",
       "      <td>NaN</td>\n",
       "      <td>NaN</td>\n",
       "      <td>NaN</td>\n",
       "      <td>Schytt V. and others</td>\n",
       "      <td>University of Iceland</td>\n",
       "      <td>Björnsson, H., (1981).  Geogr. Ann.</td>\n",
       "      <td>NaN</td>\n",
       "    </tr>\n",
       "    <tr>\n",
       "      <th>1</th>\n",
       "      <td>2.0</td>\n",
       "      <td>SE</td>\n",
       "      <td>RABOTS GLACIAER</td>\n",
       "      <td>WGI</td>\n",
       "      <td>SE4B000E1016</td>\n",
       "      <td>67.894</td>\n",
       "      <td>18.5344</td>\n",
       "      <td>1979.0</td>\n",
       "      <td>4.1</td>\n",
       "      <td>NaN</td>\n",
       "      <td>...</td>\n",
       "      <td>19790399.0</td>\n",
       "      <td>GPRt</td>\n",
       "      <td>NaN</td>\n",
       "      <td>10.0</td>\n",
       "      <td>NaN</td>\n",
       "      <td>NaN</td>\n",
       "      <td>Schytt V. and others</td>\n",
       "      <td>University of Iceland</td>\n",
       "      <td>Björnsson, H., (1981).  Geogr. Ann.</td>\n",
       "      <td>NaN</td>\n",
       "    </tr>\n",
       "    <tr>\n",
       "      <th>2</th>\n",
       "      <td>3.0</td>\n",
       "      <td>SE</td>\n",
       "      <td>STORGLACIAEREN</td>\n",
       "      <td>WGI</td>\n",
       "      <td>SE4B000E0005</td>\n",
       "      <td>67.900</td>\n",
       "      <td>18.5700</td>\n",
       "      <td>1979.0</td>\n",
       "      <td>3.1</td>\n",
       "      <td>NaN</td>\n",
       "      <td>...</td>\n",
       "      <td>19790399.0</td>\n",
       "      <td>GPRt</td>\n",
       "      <td>NaN</td>\n",
       "      <td>NaN</td>\n",
       "      <td>NaN</td>\n",
       "      <td>NaN</td>\n",
       "      <td>Schytt V. and others</td>\n",
       "      <td>University of Iceland</td>\n",
       "      <td>Björnsson, H., (1981).  Geogr. Ann.</td>\n",
       "      <td>NaN</td>\n",
       "    </tr>\n",
       "    <tr>\n",
       "      <th>3</th>\n",
       "      <td>4.0</td>\n",
       "      <td>US</td>\n",
       "      <td>SOUTH CASCADE</td>\n",
       "      <td>WGI</td>\n",
       "      <td>US2M00264006</td>\n",
       "      <td>48.370</td>\n",
       "      <td>-121.0500</td>\n",
       "      <td>1975.0</td>\n",
       "      <td>2.0</td>\n",
       "      <td>NaN</td>\n",
       "      <td>...</td>\n",
       "      <td>19759999.0</td>\n",
       "      <td>DRIh</td>\n",
       "      <td>NaN</td>\n",
       "      <td>NaN</td>\n",
       "      <td>NaN</td>\n",
       "      <td>NaN</td>\n",
       "      <td>NaN</td>\n",
       "      <td>NaN</td>\n",
       "      <td>Driedger, C.L., and Kennard, P.M., (1986a). An...</td>\n",
       "      <td>NaN</td>\n",
       "    </tr>\n",
       "    <tr>\n",
       "      <th>4</th>\n",
       "      <td>5.0</td>\n",
       "      <td>CA</td>\n",
       "      <td>ATHABASCA</td>\n",
       "      <td>WGMS</td>\n",
       "      <td>7</td>\n",
       "      <td>52.200</td>\n",
       "      <td>-117.2500</td>\n",
       "      <td>9999.0</td>\n",
       "      <td>3.8</td>\n",
       "      <td>NaN</td>\n",
       "      <td>...</td>\n",
       "      <td>99999999.0</td>\n",
       "      <td>NaN</td>\n",
       "      <td>NaN</td>\n",
       "      <td>NaN</td>\n",
       "      <td>NaN</td>\n",
       "      <td>NaN</td>\n",
       "      <td>NaN</td>\n",
       "      <td>NaN</td>\n",
       "      <td>Driedger, C.L., and Kennard, P.M., (1986a). An...</td>\n",
       "      <td>NaN</td>\n",
       "    </tr>\n",
       "  </tbody>\n",
       "</table>\n",
       "<p>5 rows × 24 columns</p>\n",
       "</div>"
      ],
      "text/plain": [
       "   GlaThiDa_ID POLITICAL_UNIT     GLACIER_NAME SOURCE_ID            ID  \\\n",
       "0          1.0             SE      ISFALLSGLAC       WGI  SE4B000E0006   \n",
       "1          2.0             SE  RABOTS GLACIAER       WGI  SE4B000E1016   \n",
       "2          3.0             SE   STORGLACIAEREN       WGI  SE4B000E0005   \n",
       "3          4.0             US    SOUTH CASCADE       WGI  US2M00264006   \n",
       "4          5.0             CA        ATHABASCA      WGMS             7   \n",
       "\n",
       "      LAT       LON    YEAR  AREA  MEAN_SLOPE   ...    SURVEY_DATE  \\\n",
       "0  67.915   18.5680  1979.0   1.3         NaN   ...     19790399.0   \n",
       "1  67.894   18.5344  1979.0   4.1         NaN   ...     19790399.0   \n",
       "2  67.900   18.5700  1979.0   3.1         NaN   ...     19790399.0   \n",
       "3  48.370 -121.0500  1975.0   2.0         NaN   ...     19759999.0   \n",
       "4  52.200 -117.2500  9999.0   3.8         NaN   ...     99999999.0   \n",
       "\n",
       "   SURVEY_METHOD  NUMBER_OF_SURVEY_POINTS  NUMBER_OF_SURVEY_PROFILES  \\\n",
       "0           GPRt                      NaN                        NaN   \n",
       "1           GPRt                      NaN                       10.0   \n",
       "2           GPRt                      NaN                        NaN   \n",
       "3           DRIh                      NaN                        NaN   \n",
       "4            NaN                      NaN                        NaN   \n",
       "\n",
       "   TOTAL_LENGTH_OF_SURVEY_PROFILES INTERPOLATION_METHOD          INVESTIGATOR  \\\n",
       "0                              NaN                  NaN  Schytt V. and others   \n",
       "1                              NaN                  NaN  Schytt V. and others   \n",
       "2                              NaN                  NaN  Schytt V. and others   \n",
       "3                              NaN                  NaN                   NaN   \n",
       "4                              NaN                  NaN                   NaN   \n",
       "\n",
       "       SPONSORING_AGENCY                                         REFERENCES  \\\n",
       "0  University of Iceland                Björnsson, H., (1981).  Geogr. Ann.   \n",
       "1  University of Iceland                Björnsson, H., (1981).  Geogr. Ann.   \n",
       "2  University of Iceland                Björnsson, H., (1981).  Geogr. Ann.   \n",
       "3                    NaN  Driedger, C.L., and Kennard, P.M., (1986a). An...   \n",
       "4                    NaN  Driedger, C.L., and Kennard, P.M., (1986a). An...   \n",
       "\n",
       "  REMARKS  \n",
       "0     NaN  \n",
       "1     NaN  \n",
       "2     NaN  \n",
       "3     NaN  \n",
       "4     NaN  \n",
       "\n",
       "[5 rows x 24 columns]"
      ]
     },
     "execution_count": 105,
     "metadata": {},
     "output_type": "execute_result"
    }
   ],
   "source": [
    "t = t.dropna( axis=0,how='all')\n",
    "tt = tt.dropna( axis=0,how='all')\n",
    "ttt = ttt.dropna( axis=0,how='all')\n",
    "t.head(1)"
   ]
  },
  {
   "cell_type": "markdown",
   "metadata": {},
   "source": [
    "# Find duplicate entries with differing coordinates"
   ]
  },
  {
   "cell_type": "code",
   "execution_count": 106,
   "metadata": {
    "collapsed": false
   },
   "outputs": [],
   "source": [
    "duplicates = [item for item, count in collections.Counter(t.GLACIER_NAME.values).items() if count > 1]\n",
    "duplicates = [x for x in duplicates if str(x) != 'nan'] # remove nan entry as it also repeats"
   ]
  },
  {
   "cell_type": "code",
   "execution_count": 107,
   "metadata": {
    "collapsed": false
   },
   "outputs": [
    {
     "name": "stdout",
     "output_type": "stream",
     "text": [
      "QIYI 39.2375 39.23 97.7564 97.75\n",
      "UNTERSULZBACHKEES 47.1333 47.13 12.35 12.35\n",
      "VERNAGTFERNER 46.88 46.877 10.82 10.817\n",
      "HAXILEGEN 43.72 43.7 84.47 84.4\n",
      "HAXILEGEN 43.72 43.72 84.47 84.38\n",
      "HAXILEGEN 43.72 43.7 84.47 84.42\n",
      "VERMUNTGLETSCHER 46.8533 46.85 10.125 10.13\n",
      "GEFRORENE WAND 47.0653 47.0733 11.6792 11.685\n",
      "GEFRORENE WAND 47.0653 47.067 11.6792 11.667\n",
      "RHONE 46.62 46.5833 8.4 8.387138\n",
      "FINDELEN 46.0 45.9979 7.87 7.8465\n",
      "HALLSTAETTER 47.48 47.482 13.62 13.615\n",
      "54 45.02 49.733 79.83 87.883\n",
      "OBERSULZBACHKEES 47.1133 47.111 12.3017 12.2931\n",
      "MIAOERGOU 43.05 43.03 94.33 94.33\n",
      "                 name      lat      lon\n",
      "0                QIYI    39.23    97.75\n",
      "1                QIYI  39.2375  97.7564\n",
      "2   UNTERSULZBACHKEES    47.13    12.35\n",
      "3   UNTERSULZBACHKEES  47.1333    12.35\n",
      "4       VERNAGTFERNER   46.877   10.817\n",
      "5       VERNAGTFERNER    46.88    10.82\n",
      "6           HAXILEGEN     43.7     84.4\n",
      "7           HAXILEGEN    43.72    84.47\n",
      "8           HAXILEGEN    43.72    84.38\n",
      "9           HAXILEGEN     43.7    84.42\n",
      "10   VERMUNTGLETSCHER    46.85    10.13\n",
      "11   VERMUNTGLETSCHER  46.8533   10.125\n",
      "12     GEFRORENE WAND  47.0733   11.685\n",
      "13     GEFRORENE WAND  47.0653  11.6792\n",
      "14     GEFRORENE WAND   47.067   11.667\n",
      "15              RHONE  46.5833  8.38714\n",
      "16              RHONE    46.62      8.4\n",
      "17           FINDELEN  45.9979   7.8465\n",
      "18           FINDELEN       46     7.87\n",
      "19       HALLSTAETTER   47.482   13.615\n",
      "20       HALLSTAETTER    47.48    13.62\n",
      "21                 54   49.733   87.883\n",
      "22                 54    45.02    79.83\n",
      "23   OBERSULZBACHKEES   47.111  12.2931\n",
      "24   OBERSULZBACHKEES  47.1133  12.3017\n",
      "25          MIAOERGOU    43.03    94.33\n",
      "26          MIAOERGOU    43.05    94.33\n"
     ]
    }
   ],
   "source": [
    "checkframe = pd.DataFrame([], columns =['name','lat','lon'])\n",
    "\n",
    "ix=0\n",
    "for dup in duplicates:\n",
    "    latitudes = t[t.GLACIER_NAME==dup].LAT.values\n",
    "    longitudes = t[t.GLACIER_NAME==dup].LON.values\n",
    "\n",
    "    ct=0\n",
    "    for i in range(1,len(latitudes)):\n",
    "        if latitudes[0] != latitudes[i] or longitudes[0]!=longitudes[i]:\n",
    "            checkframe.loc[ix, 'name'] = dup\n",
    "            checkframe.loc[ix, 'lat'] = latitudes[i]\n",
    "            checkframe.loc[ix, 'lon'] = longitudes[i]\n",
    "            ix+=1\n",
    "            \n",
    "            if ct==0:\n",
    "                checkframe.loc[ix, 'name'] = dup\n",
    "                checkframe.loc[ix, 'lat'] = latitudes[0]\n",
    "                checkframe.loc[ix, 'lon'] = longitudes[0]\n",
    "                ix+=1\n",
    "                ct+=1  \n",
    "        \n",
    "print(checkframe)"
   ]
  },
  {
   "cell_type": "markdown",
   "metadata": {},
   "source": [
    "# Decide manually which coordinates are \"correct\""
   ]
  },
  {
   "cell_type": "code",
   "execution_count": 108,
   "metadata": {
    "collapsed": false
   },
   "outputs": [],
   "source": [
    "def haversine(lon1, lat1, lon2, lat2):\n",
    "    \"\"\"\n",
    "    Calculate the great circle distance between one point \n",
    "    on the earth and an array of points (specified in decimal degrees)\n",
    "    \"\"\"\n",
    "    \n",
    "    # convert decimal degrees to radians \n",
    "    lon1, lat1, lon2, lat2 = map(np.radians, [lon1, lat1, lon2, lat2])\n",
    "\n",
    "    # haversine formula \n",
    "    dlon = lon2 - lon1\n",
    "    dlat = lat2 - lat1\n",
    "    a = np.sin(dlat/2)**2 + np.cos(lat1) * np.cos(lat2) * np.sin(dlon/2)**2\n",
    "    c = 2 * np.arcsin(np.sqrt(a)) \n",
    "    r = 6371000 # Radius of earth in meters\n",
    "    return c * r"
   ]
  },
  {
   "cell_type": "code",
   "execution_count": 109,
   "metadata": {
    "collapsed": false
   },
   "outputs": [],
   "source": [
    "r_shp = rgi_dir + '00_rgi50_regions\\\\00_rgi50_O1Regions.shp'\n",
    "rgi_r = salem.utils.read_shapefile(r_shp)\n",
    "\n",
    "rgi_r[['Primary_ID','Secondary_']]\n",
    "\n",
    "region_candidates = []\n",
    "for k, row in checkframe.iterrows():\n",
    "    gp = shpg.Point(row.lon, row.lat)\n",
    "    rgi_reg = []\n",
    "    for i, r in rgi_r.iterrows():\n",
    "        if r.geometry.contains(gp):\n",
    "            rgi_reg.append(r['Secondary_'])\n",
    "    assert len(rgi_reg) == 1\n",
    "    region_candidates.append(rgi_reg[0])\n",
    "    \n",
    "checkframe['RGI_REG'] = region_candidates"
   ]
  },
  {
   "cell_type": "code",
   "execution_count": 110,
   "metadata": {
    "collapsed": false
   },
   "outputs": [
    {
     "name": "stdout",
     "output_type": "stream",
     "text": [
      "11\n",
      "11\n"
     ]
    },
    {
     "name": "stderr",
     "output_type": "stream",
     "text": [
      "C:\\Users\\jlandman\\Anaconda3\\lib\\site-packages\\pandas\\core\\generic.py:2698: SettingWithCopyWarning: \n",
      "A value is trying to be set on a copy of a slice from a DataFrame\n",
      "\n",
      "See the caveats in the documentation: http://pandas.pydata.org/pandas-docs/stable/indexing.html#indexing-view-versus-copy\n",
      "  self[name] = value\n"
     ]
    },
    {
     "name": "stdout",
     "output_type": "stream",
     "text": [
      "11\n",
      "11\n",
      "11\n",
      "5 / 12 plots done.\n",
      "10\n",
      "13\n",
      "13\n",
      "11\n",
      "13\n",
      "10 / 12 plots done.\n",
      "11\n",
      "11\n"
     ]
    }
   ],
   "source": [
    "from matplotlib.backends.backend_pdf import PdfPages\n",
    "\n",
    "unique_names = set(checkframe.name.values)\n",
    "\n",
    "curr = 1  # current plot\n",
    "total = len(unique_names)  # total number of plots ()\n",
    "\n",
    "with PdfPages('checkcoord.pdf') as pdf:\n",
    "    for name in unique_names:\n",
    "        region = checkframe[checkframe.name==name].RGI_REG.iloc[0]\n",
    "        print(region)\n",
    "        rgi_shp = list(glob(os.path.join(rgi_dir, \"*\", region + '_rgi50_*.shp')))[0]\n",
    "        pdrgi = salem.utils.read_shapefile(rgi_shp, cached=True)\n",
    "        lon, lat = np.nanmean(checkframe[checkframe.name == name].lon.values), np.nanmean(checkframe[checkframe.name == name].lat.values)\n",
    "        pdrgi['DIST'] = haversine(lon, lat, pdrgi.CenLon.values, pdrgi.CenLat.values)\n",
    "        sortrgi = pdrgi.sort_values(by='DIST')\n",
    "        \n",
    "        # For GoogleMap we need a lon lat range to generate the map\n",
    "        mmlon = [np.nanmin(checkframe[checkframe.name == name].lon.values), np.nanmax(checkframe[checkframe.name == name].lon.values)]\n",
    "        mmlat = [np.nanmin(checkframe[checkframe.name == name].lat.values), np.nanmax(checkframe[checkframe.name == name].lat.values)]\n",
    "        \n",
    "        for i in np.arange(0,7):\n",
    "            rgig = sortrgi.iloc[i]\n",
    "            # In case the glacier is a MultiPolygon we account for this here:\n",
    "            if rgig.geometry.type == 'Polygon':\n",
    "                x, y = rgig.geometry.exterior.xy\n",
    "            elif rgig.geometry.type == 'MultiPolygon':\n",
    "                # buffer is necessary as some multi-polygons are self-intersecting\n",
    "                allparts = [p.buffer(0) for p in rgig.geometry] \n",
    "                rgig.geometry = shapely.ops.cascaded_union(allparts)\n",
    "                x, y = rgig.geometry.exterior.xy\n",
    "\n",
    "            mmlon = [np.min(np.append(mmlon, x)), np.max(np.append(mmlon, x))]\n",
    "            mmlat = [np.min(np.append(mmlat, y)), np.max(np.append(mmlat, y))]\n",
    "            \n",
    "        # Prepare the figure\n",
    "        fig, (ax1, ax2) = plt.subplots(1, 2, figsize=(14, 5))\n",
    "        ax1.set_title(name)\n",
    "        \n",
    "        local = datasets.GoogleVisibleMap(x=mmlon, y=mmlat) \n",
    "        local_map = Map(local.grid, countries=False, nx=640)\n",
    "        local_map.set_lonlat_countours()\n",
    "\n",
    "            \n",
    "        # Plot glaciers\n",
    "        colors = ['red', 'orange', 'green', 'blue', 'purple', 'magenta','red', 'orange', 'green', 'blue', 'purple', 'magenta']\n",
    "        for i in np.arange(0,7):\n",
    "            rgig = sortrgi.iloc[i]\n",
    "            # In case the glacier is a MultiPolygon we (again) account for this here:\n",
    "            if rgig.geometry.type == 'Polygon':\n",
    "                x, y = rgig.geometry.exterior.xy\n",
    "            elif rgig.geometry.type == 'MultiPolygon':\n",
    "                # buffer is necessary as some multi-polygons are self-intersecting\n",
    "                allparts = [p.buffer(0) for p in rgig.geometry] \n",
    "                rgig.geometry = shapely.ops.cascaded_union(allparts)\n",
    "                x, y = rgig.geometry.exterior.xy\n",
    "            \n",
    "            px, py = rgig.CenLon, rgig.CenLat \n",
    "            local_map.set_geometry(shpg.Point(px, py), markersize=6, linewidth=0, color='black') \n",
    "            local_map.set_geometry(rgig.geometry.exterior, color=colors[i], linewidth=3, label=rgig.RGIId) \n",
    "\n",
    "        # Plot the point\n",
    "        for j in range(len(checkframe[checkframe.name == name].lon.values)):\n",
    "            px, py = checkframe[checkframe.name == name].lon.values[j], checkframe[checkframe.name == name].lat.values[j] #local.transform(lon, lat)\n",
    "            local_map.set_geometry(shpg.Point(px, py), edgecolor='k', marker='x', linewidth=4, markersize=100, zorder=50,\n",
    "                                   color=colors[j], text='%s,%s' % (px,py))\n",
    "        \n",
    "        local_map.set_rgb(local.get_vardata())\n",
    "        local_map.visualize(ax=ax1, addcbar=False)\n",
    "\n",
    "        local = datasets.GoogleVisibleMap(x=mmlon, y=mmlat, maptype='terrain')\n",
    "        local_map.set_rgb(local.get_vardata())\n",
    "        local_map.visualize(ax=ax2, addcbar=False)\n",
    "        plt.subplots_adjust(left=0.04, right=0.80, top=0.94, bottom=0.07)\n",
    "        plt.legend(bbox_to_anchor=(1.02, 1.), fontsize=18, loc=2, borderaxespad=0, frameon=False, numpoints=1,\n",
    "                       scatterpoints=1)\n",
    "        pdf.savefig(fig)\n",
    "        plt.close()\n",
    "        \n",
    "        if curr % 5 == 0:\n",
    "            print(\"%s / %s plots done.\" % (curr, total))\n",
    "        curr += 1"
   ]
  },
  {
   "cell_type": "code",
   "execution_count": 111,
   "metadata": {
    "collapsed": true
   },
   "outputs": [],
   "source": [
    "coord_correct = {'RHONE':(46.6200, 8.400000),  # took the coordinates furthe upstream\n",
    "                'OBERSULZBACHKEES':(47.1110, 12.2931), # unclear if it makes sense that coordinates are separate; sources are different\n",
    "                'VERNAGTFERNER':(46.880, 10.820), # took the coordinates further upstream\n",
    "                'HALLSTAETTER':(47.482, 13.615),  # took the more central coordinates\n",
    "                'VERMUNTGLETSCHER':(46.8533, 10.125), # took the more central and upstream coordinates\n",
    "                'MIAOERGOU':(),  # no idea: sometimes \"miaoergou\" also refers to the glaciers of the whole mountain crest\n",
    "                'QIYI':(39.2375, 97.7564),  # took the one within the glacier outlines\n",
    "                'FINDELEN':(46.0000, 7.8700), # took the one within the glacier outlines\n",
    "                'GEFRORENE WAND':(47.0721, 11.6831), # selected a totally new coordinate (two present coordinates are almost outside the polygon)\n",
    "                'UNTERSULZBACHKEES':(47.1300, 12.35)} # took the upstream coordinate\n",
    "\n",
    "# '54':() was removed as two different glaciers are meant (both named \"54\")\n",
    "#  'HAXILEGEN':(), was removed as probably different glaciers are meant (rename, add extra info!?)\n"
   ]
  }
 ],
 "metadata": {
  "kernelspec": {
   "display_name": "Python 3",
   "language": "python",
   "name": "python3"
  },
  "language_info": {
   "codemirror_mode": {
    "name": "ipython",
    "version": 3
   },
   "file_extension": ".py",
   "mimetype": "text/x-python",
   "name": "python",
   "nbconvert_exporter": "python",
   "pygments_lexer": "ipython3",
   "version": "3.5.1"
  }
 },
 "nbformat": 4,
 "nbformat_minor": 0
}
