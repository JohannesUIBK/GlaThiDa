{
 "cells": [
  {
   "cell_type": "markdown",
   "metadata": {},
   "source": [
    "# Modules"
   ]
  },
  {
   "cell_type": "code",
   "execution_count": 1,
   "metadata": {
    "collapsed": false
   },
   "outputs": [],
   "source": [
    "import pandas as pd\n",
    "from glob import glob\n",
    "import os\n",
    "import numpy as np\n",
    "import matplotlib.pyplot as plt\n",
    "import warnings\n",
    "% matplotlib inline"
   ]
  },
  {
   "cell_type": "markdown",
   "metadata": {},
   "source": [
    "# Point thinning functions"
   ]
  },
  {
   "cell_type": "code",
   "execution_count": 2,
   "metadata": {
    "collapsed": false
   },
   "outputs": [],
   "source": [
    "def dist_pyth(lon1, lat1, lon2, lat2):\n",
    "    \"\"\"Calculate the distance between two points \"\"\"\n",
    "    return np.sqrt((lat2 - lat1)**2 + (lon2 - lon1)**2)\n",
    "\n",
    "\n",
    "def haversine(lon1, lat1, lon2, lat2):\n",
    "    \"\"\"\n",
    "    Calculate the great circle distance between one point \n",
    "    on the earth and an array of points (specified in decimal degrees)\n",
    "    \"\"\"\n",
    "    \n",
    "    # convert decimal degrees to radians \n",
    "    lon1, lat1, lon2, lat2 = map(np.radians, [lon1, lat1, lon2, lat2])\n",
    "\n",
    "    # haversine formula \n",
    "    dlon = lon2 - lon1\n",
    "    dlat = lat2 - lat1\n",
    "    a = np.sin(dlat/2)**2 + np.cos(lat1) * np.cos(lat2) * np.sin(dlon/2)**2\n",
    "    c = 2 * np.arcsin(np.sqrt(a)) \n",
    "    r = 6371000 # Radius of earth in meters\n",
    "    return c * r\n",
    "\n",
    "\n",
    "def p_dist(lon1, lat1, lon2, lat2, units=None):\n",
    "    \"\"\"\n",
    "    Calculate the distance between two *CLOSE* points in meters using Pythagoras\n",
    "    \"\"\"\n",
    "    if units == 'm':\n",
    "        dist = dist_pyth(lon1, lat1, lon2, lat2)\n",
    "    elif units == 'deg':\n",
    "        dist = haversine(lon1, lat1, lon2, lat2)\n",
    "    else:\n",
    "        raise ValueError('Units must be meters (m) or degrees (deg).')\n",
    "        \n",
    "    return dist\n",
    "\n",
    "\n",
    "def p_thin(df, xcol='x', ycol='y', datacols='data', radius=10, method='nanmean', units=None):\n",
    "    \"\"\"\n",
    "    Thin a pandas point series based on distance of the points.\n",
    "    \n",
    "    Parameters\n",
    "    ----------\n",
    "    pseries: Series of points\n",
    "    xcol: name of column with x coordinates\n",
    "    ycol: name of columns with y coordinates\n",
    "    datacol: name fo columns with data\n",
    "    radius: search radius for point distance\n",
    "    method: calculation method (a numpy method). Default: 'nanmean'\n",
    "    \n",
    "    Returns\n",
    "    -------\n",
    "    A thinned dataframe\n",
    "    \n",
    "    \"\"\"\n",
    "    \n",
    "    assert units!=None,'Units must be meters (m) or degrees (deg).'\n",
    "    \n",
    "    thinned = pd.DataFrame([],columns=df.columns.values)\n",
    "    \n",
    "    print(len(df))\n",
    "    ct=0\n",
    "    while len(df)>0:\n",
    "        df['DIST'] = p_dist(df[xcol].iloc[0], df[ycol].iloc[0], df[xcol], df[ycol], units=units)\n",
    "        df = df.sort_values('DIST')\n",
    "\n",
    "        subset = df[df.DIST <= radius]\n",
    "        \n",
    "        if not subset.empty:\n",
    "            subset = subset.reset_index()\n",
    "            fill_dict = {}\n",
    "            fill_dict[xcol] = subset.loc[int(len(subset)/2), xcol]\n",
    "            fill_dict[ycol] = subset.loc[int(len(subset)/2), ycol]\n",
    "            for data in datacols:\n",
    "                try:\n",
    "                    fill_dict[data] = getattr(np,method)(subset[data].values)\n",
    "                except TypeError:\n",
    "                    fill_dict[data] = np.nan\n",
    "            thinned.loc[len(thinned)] = pd.Series(fill_dict)\n",
    "            ct+=1\n",
    "\n",
    "            if ct%100==0:\n",
    "                print(ct, len(df))\n",
    "        # delete the used points from the data\n",
    "        df = df.drop(df[df.DIST <= radius].index.values)\n",
    "        \n",
    "    print(len(thinned))\n",
    "    return thinned"
   ]
  },
  {
   "cell_type": "markdown",
   "metadata": {},
   "source": [
    "# Files"
   ]
  },
  {
   "cell_type": "code",
   "execution_count": 3,
   "metadata": {
    "collapsed": false
   },
   "outputs": [
    {
     "name": "stdout",
     "output_type": "stream",
     "text": [
      "['C:\\\\Users\\\\jlandman\\\\Desktop\\\\newData\\\\CL_Schaefer\\\\GlaThiDa2-0_MS2_Johannes.xls', 'C:\\\\Users\\\\jlandman\\\\Desktop\\\\newData\\\\CL_Schaefer\\\\GlaThiDa2-0_MS_Johannes.xls']\n"
     ]
    }
   ],
   "source": [
    "files = glob('C:\\\\Users\\\\jlandman\\\\Desktop\\\\newData\\\\CL_Schaefer\\\\GlaThiDa2-0_MS*_Johannes.xls')\n",
    "print(files)"
   ]
  },
  {
   "cell_type": "code",
   "execution_count": 4,
   "metadata": {
    "collapsed": false
   },
   "outputs": [
    {
     "data": {
      "text/plain": [
       "\"\\nthin_dict = {'Del Potro':8,\\n             'Tronquitos':6,\\n             'Tapado':12,\\n             'Juncal Norte': 20,   \\n             'Rio Blanco':24,\\n             'Tupungatito':22,\\n             'Marmolejo':26    \\n}\\n\""
      ]
     },
     "execution_count": 4,
     "metadata": {},
     "output_type": "execute_result"
    }
   ],
   "source": [
    "# no longer needed\n",
    "\"\"\"\n",
    "thin_dict = {'Del Potro':8,\n",
    "             'Tronquitos':6,\n",
    "             'Tapado':12,\n",
    "             'Juncal Norte': 20,   \n",
    "             'Rio Blanco':24,\n",
    "             'Tupungatito':22,\n",
    "             'Marmolejo':26    \n",
    "}\n",
    "\"\"\""
   ]
  },
  {
   "cell_type": "code",
   "execution_count": 5,
   "metadata": {
    "collapsed": true
   },
   "outputs": [],
   "source": [
    "search_dist = 10 # forward search distance for point thinning"
   ]
  },
  {
   "cell_type": "code",
   "execution_count": 6,
   "metadata": {
    "collapsed": false
   },
   "outputs": [
    {
     "name": "stdout",
     "output_type": "stream",
     "text": [
      "Marmolejo\n",
      "20549\n"
     ]
    },
    {
     "name": "stderr",
     "output_type": "stream",
     "text": [
      "C:\\Users\\jlandman\\Anaconda3\\lib\\site-packages\\ipykernel\\__main__.py:21: SettingWithCopyWarning: \n",
      "A value is trying to be set on a copy of a slice from a DataFrame.\n",
      "Try using .loc[row_indexer,col_indexer] = value instead\n",
      "\n",
      "See the caveats in the documentation: http://pandas.pydata.org/pandas-docs/stable/indexing.html#indexing-view-versus-copy\n",
      "C:\\Users\\jlandman\\Anaconda3\\lib\\site-packages\\ipykernel\\__main__.py:64: SettingWithCopyWarning: \n",
      "A value is trying to be set on a copy of a slice from a DataFrame.\n",
      "Try using .loc[row_indexer,col_indexer] = value instead\n",
      "\n",
      "See the caveats in the documentation: http://pandas.pydata.org/pandas-docs/stable/indexing.html#indexing-view-versus-copy\n"
     ]
    },
    {
     "name": "stdout",
     "output_type": "stream",
     "text": [
      "100 19527\n",
      "200 18304\n",
      "300 16511\n",
      "400 14387\n",
      "500 12587\n",
      "600 10917\n",
      "700 9491\n",
      "800 8279\n",
      "900 6866\n",
      "1000 5564\n",
      "1100 4267\n",
      "1200 3289\n",
      "1300 2298\n",
      "1400 1374\n",
      "1500 411\n",
      "1544\n",
      "Rio Blanco\n",
      "23603\n"
     ]
    },
    {
     "name": "stderr",
     "output_type": "stream",
     "text": [
      "C:\\Users\\jlandman\\Anaconda3\\lib\\site-packages\\ipykernel\\__main__.py:21: SettingWithCopyWarning: \n",
      "A value is trying to be set on a copy of a slice from a DataFrame.\n",
      "Try using .loc[row_indexer,col_indexer] = value instead\n",
      "\n",
      "See the caveats in the documentation: http://pandas.pydata.org/pandas-docs/stable/indexing.html#indexing-view-versus-copy\n",
      "C:\\Users\\jlandman\\Anaconda3\\lib\\site-packages\\ipykernel\\__main__.py:64: SettingWithCopyWarning: \n",
      "A value is trying to be set on a copy of a slice from a DataFrame.\n",
      "Try using .loc[row_indexer,col_indexer] = value instead\n",
      "\n",
      "See the caveats in the documentation: http://pandas.pydata.org/pandas-docs/stable/indexing.html#indexing-view-versus-copy\n"
     ]
    },
    {
     "name": "stdout",
     "output_type": "stream",
     "text": [
      "100 21893\n",
      "200 20753\n",
      "300 19626\n",
      "400 18342\n",
      "500 16685\n",
      "600 15626\n",
      "700 14610\n",
      "800 13322\n",
      "900 10994\n",
      "1000 9836\n",
      "1100 8926\n",
      "1200 7811\n",
      "1300 6695\n",
      "1400 5506\n",
      "1500 4551\n",
      "1600 3555\n",
      "1700 2223\n",
      "1800 910\n",
      "1871\n",
      "Tupungatito\n",
      "21344\n"
     ]
    },
    {
     "name": "stderr",
     "output_type": "stream",
     "text": [
      "C:\\Users\\jlandman\\Anaconda3\\lib\\site-packages\\ipykernel\\__main__.py:21: SettingWithCopyWarning: \n",
      "A value is trying to be set on a copy of a slice from a DataFrame.\n",
      "Try using .loc[row_indexer,col_indexer] = value instead\n",
      "\n",
      "See the caveats in the documentation: http://pandas.pydata.org/pandas-docs/stable/indexing.html#indexing-view-versus-copy\n",
      "C:\\Users\\jlandman\\Anaconda3\\lib\\site-packages\\ipykernel\\__main__.py:64: SettingWithCopyWarning: \n",
      "A value is trying to be set on a copy of a slice from a DataFrame.\n",
      "Try using .loc[row_indexer,col_indexer] = value instead\n",
      "\n",
      "See the caveats in the documentation: http://pandas.pydata.org/pandas-docs/stable/indexing.html#indexing-view-versus-copy\n"
     ]
    },
    {
     "name": "stdout",
     "output_type": "stream",
     "text": [
      "100 19848\n",
      "200 18123\n",
      "300 17082\n",
      "400 15840\n",
      "500 14668\n",
      "600 13689\n",
      "700 12549\n",
      "800 11180\n",
      "900 10022\n",
      "1000 8860\n",
      "1100 7761\n",
      "1200 6629\n",
      "1300 5729\n",
      "1400 4298\n",
      "1500 2767\n",
      "1600 1254\n",
      "1685\n",
      "Del Potro\n",
      "7909\n"
     ]
    },
    {
     "name": "stderr",
     "output_type": "stream",
     "text": [
      "C:\\Users\\jlandman\\Anaconda3\\lib\\site-packages\\ipykernel\\__main__.py:25: SettingWithCopyWarning: \n",
      "A value is trying to be set on a copy of a slice from a DataFrame.\n",
      "Try using .loc[row_indexer,col_indexer] = value instead\n",
      "\n",
      "See the caveats in the documentation: http://pandas.pydata.org/pandas-docs/stable/indexing.html#indexing-view-versus-copy\n",
      "C:\\Users\\jlandman\\Anaconda3\\lib\\site-packages\\ipykernel\\__main__.py:64: SettingWithCopyWarning: \n",
      "A value is trying to be set on a copy of a slice from a DataFrame.\n",
      "Try using .loc[row_indexer,col_indexer] = value instead\n",
      "\n",
      "See the caveats in the documentation: http://pandas.pydata.org/pandas-docs/stable/indexing.html#indexing-view-versus-copy\n"
     ]
    },
    {
     "name": "stdout",
     "output_type": "stream",
     "text": [
      "100 6263\n",
      "200 5193\n",
      "300 3732\n",
      "400 2429\n",
      "500 1109\n",
      "542\n",
      "Juncal Norte\n",
      "20416\n"
     ]
    },
    {
     "name": "stderr",
     "output_type": "stream",
     "text": [
      "C:\\Users\\jlandman\\Anaconda3\\lib\\site-packages\\ipykernel\\__main__.py:21: SettingWithCopyWarning: \n",
      "A value is trying to be set on a copy of a slice from a DataFrame.\n",
      "Try using .loc[row_indexer,col_indexer] = value instead\n",
      "\n",
      "See the caveats in the documentation: http://pandas.pydata.org/pandas-docs/stable/indexing.html#indexing-view-versus-copy\n",
      "C:\\Users\\jlandman\\Anaconda3\\lib\\site-packages\\ipykernel\\__main__.py:64: SettingWithCopyWarning: \n",
      "A value is trying to be set on a copy of a slice from a DataFrame.\n",
      "Try using .loc[row_indexer,col_indexer] = value instead\n",
      "\n",
      "See the caveats in the documentation: http://pandas.pydata.org/pandas-docs/stable/indexing.html#indexing-view-versus-copy\n"
     ]
    },
    {
     "name": "stdout",
     "output_type": "stream",
     "text": [
      "100 18995\n",
      "200 17499\n",
      "300 16129\n",
      "400 14554\n",
      "500 12848\n",
      "600 11551\n",
      "700 9928\n",
      "800 8729\n",
      "900 7322\n",
      "1000 6052\n",
      "1100 4463\n",
      "1200 3134\n",
      "1300 2036\n",
      "1400 936\n",
      "1469\n",
      "Tapado\n",
      "14435\n"
     ]
    },
    {
     "name": "stderr",
     "output_type": "stream",
     "text": [
      "C:\\Users\\jlandman\\Anaconda3\\lib\\site-packages\\ipykernel\\__main__.py:21: SettingWithCopyWarning: \n",
      "A value is trying to be set on a copy of a slice from a DataFrame.\n",
      "Try using .loc[row_indexer,col_indexer] = value instead\n",
      "\n",
      "See the caveats in the documentation: http://pandas.pydata.org/pandas-docs/stable/indexing.html#indexing-view-versus-copy\n",
      "C:\\Users\\jlandman\\Anaconda3\\lib\\site-packages\\ipykernel\\__main__.py:64: SettingWithCopyWarning: \n",
      "A value is trying to be set on a copy of a slice from a DataFrame.\n",
      "Try using .loc[row_indexer,col_indexer] = value instead\n",
      "\n",
      "See the caveats in the documentation: http://pandas.pydata.org/pandas-docs/stable/indexing.html#indexing-view-versus-copy\n"
     ]
    },
    {
     "name": "stdout",
     "output_type": "stream",
     "text": [
      "100 11970\n",
      "200 10065\n",
      "300 8366\n",
      "400 6499\n",
      "500 4270\n",
      "600 2683\n",
      "700 1358\n",
      "800 339\n",
      "836\n",
      "Tronquitos\n",
      "6666\n"
     ]
    },
    {
     "name": "stderr",
     "output_type": "stream",
     "text": [
      "C:\\Users\\jlandman\\Anaconda3\\lib\\site-packages\\ipykernel\\__main__.py:21: SettingWithCopyWarning: \n",
      "A value is trying to be set on a copy of a slice from a DataFrame.\n",
      "Try using .loc[row_indexer,col_indexer] = value instead\n",
      "\n",
      "See the caveats in the documentation: http://pandas.pydata.org/pandas-docs/stable/indexing.html#indexing-view-versus-copy\n",
      "C:\\Users\\jlandman\\Anaconda3\\lib\\site-packages\\ipykernel\\__main__.py:64: SettingWithCopyWarning: \n",
      "A value is trying to be set on a copy of a slice from a DataFrame.\n",
      "Try using .loc[row_indexer,col_indexer] = value instead\n",
      "\n",
      "See the caveats in the documentation: http://pandas.pydata.org/pandas-docs/stable/indexing.html#indexing-view-versus-copy\n"
     ]
    },
    {
     "name": "stdout",
     "output_type": "stream",
     "text": [
      "100 4882\n",
      "200 3756\n",
      "300 2670\n",
      "400 1686\n",
      "500 302\n",
      "516\n"
     ]
    }
   ],
   "source": [
    "data_new = pd.DataFrame([])\n",
    "\n",
    "for file in files:\n",
    "    fname = os.path.basename(file)\n",
    "    data = pd.read_excel(file, sheetname=1)\n",
    "    data = data.apply(lambda x: pd.to_numeric(x, errors='ignore'))\n",
    "\n",
    "    for glacier in np.unique(data.GLACIER_NAME.values):\n",
    "        temp = data[data.GLACIER_NAME==glacier]\n",
    "\n",
    "        gtd_id = temp[temp.GLACIER_NAME==glacier].GlaThiDa_ID.values[0]\n",
    "        pol_u = temp[temp.GLACIER_NAME==glacier].POLITICAL_UNIT.values[0]\n",
    "        surv_date = temp[temp.GLACIER_NAME==glacier].SURVEY_DATE.values[0]\n",
    "        remarks = temp[temp.GLACIER_NAME==glacier].REMARKS.iloc[0] + ' Point data have been thinned (mean) within a search distance of %s m.' % search_dist\n",
    "        gname = glacier\n",
    "        print(gname)\n",
    "        #former data thinning\n",
    "        #temp = temp.groupby(temp.index // thin_dict[glacier]).mean() # average over every x values as specified above\n",
    "\n",
    "        try:\n",
    "            temp['ELEVATION'] = temp['ELEVATION']\n",
    "        except KeyError:\n",
    "            temp['ELEVATION'] = np.nan\n",
    "        except ValueError:\n",
    "            temp['ELEVATION'] = np.nan\n",
    "        \n",
    "        # thin the data and filter \"mean on empyt slice\" warnings (in case there is no elevation)\n",
    "        with warnings.catch_warnings():\n",
    "            warnings.simplefilter(\"ignore\", category=RuntimeWarning)\n",
    "            temp = p_thin(temp, xcol='POINT_LON', ycol='POINT_LAT', datacols=['THICKNESS', 'ELEVATION'], radius=search_dist, method='nanmean', units='deg')\n",
    "\n",
    "        temp['POLITICAL_UNIT'] = pol_u\n",
    "        temp['GLACIER_NAME'] = gname.upper()\n",
    "        temp['REMARKS'] = remarks\n",
    "        temp['THICKNESS_UNCERTAINTY'] = np.nan\n",
    "        temp['DATA_FLAG'] = np.nan\n",
    "        temp['GlaThiDa_ID'] = gtd_id\n",
    "        temp['SURVEY_DATE'] = surv_date\n",
    "        temp['POINT_ID'] = range(1,len(temp)+1)\n",
    "\n",
    "        data_new = data_new.append(temp, ignore_index=True)\n",
    "   \n",
    "data_new['THICKNESS'] = data_new['THICKNESS'].round()\n",
    "data_new['ELEVATION'] = data_new['ELEVATION'].round()\n",
    "data_new['POINT_LAT'] = data_new['POINT_LAT'].round(8)\n",
    "data_new['POINT_LON'] = data_new['POINT_LON'].round(9)\n",
    "data_new = data_new[['GlaThiDa_ID','POLITICAL_UNIT', 'GLACIER_NAME', 'SURVEY_DATE', 'POINT_ID',  'POINT_LAT',  'POINT_LON',  'ELEVATION', \n",
    "                     'THICKNESS', 'THICKNESS_UNCERTAINTY', 'DATA_FLAG', 'REMARKS']]\n",
    "\n",
    "data_new = data_new.sort_values(by=['GlaThiDa_ID','POINT_ID'])\n",
    "data_new.to_excel(os.path.join(os.path.dirname(file),fname.split('.')[0]+'_thinned.xlsx'), index=False)"
   ]
  }
 ],
 "metadata": {
  "kernelspec": {
   "display_name": "Python 3",
   "language": "python",
   "name": "python3"
  },
  "language_info": {
   "codemirror_mode": {
    "name": "ipython",
    "version": 3
   },
   "file_extension": ".py",
   "mimetype": "text/x-python",
   "name": "python",
   "nbconvert_exporter": "python",
   "pygments_lexer": "ipython3",
   "version": "3.5.1"
  }
 },
 "nbformat": 4,
 "nbformat_minor": 0
}
