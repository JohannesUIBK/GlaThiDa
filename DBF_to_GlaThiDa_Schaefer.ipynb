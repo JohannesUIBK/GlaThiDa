{
 "cells": [
  {
   "cell_type": "code",
   "execution_count": null,
   "metadata": {
    "collapsed": false
   },
   "outputs": [],
   "source": [
    "import pandas as pd\n",
    "from glob import glob\n",
    "from simpledbf import Dbf5\n",
    "import os\n",
    "import pyproj\n",
    "import numpy as np"
   ]
  },
  {
   "cell_type": "code",
   "execution_count": null,
   "metadata": {
    "collapsed": false
   },
   "outputs": [],
   "source": [
    "files = glob('C:\\\\Users\\\\jlandman\\\\Desktop\\\\newData\\\\CL_Schaefer\\\\Schaefer_rawdata-chile\\\\DD\\\\*.dbf')\n",
    "files"
   ]
  },
  {
   "cell_type": "markdown",
   "metadata": {},
   "source": [
    "# Echaurren and Plomo have no GENERAL entry by M. Schaefer"
   ]
  },
  {
   "cell_type": "code",
   "execution_count": null,
   "metadata": {
    "collapsed": true
   },
   "outputs": [],
   "source": [
    "pop_list = ['del_potro','tronquitos','apado','juncal_n','rio_blanco','tupungatito','marmolejo', 'echaurren', 'terrestre'] "
   ]
  },
  {
   "cell_type": "code",
   "execution_count": null,
   "metadata": {
    "collapsed": false
   },
   "outputs": [],
   "source": [
    "for i in files:\n",
    "    print(i)\n",
    "    for j in pop_list:\n",
    "        if j in i:\n",
    "            files.remove(i)\n",
    "files"
   ]
  },
  {
   "cell_type": "code",
   "execution_count": null,
   "metadata": {
    "collapsed": true
   },
   "outputs": [],
   "source": [
    "thin_dict = {'bello':11,\n",
    "             'callaqui':21,\n",
    "             'cipreses_norte':43,\n",
    "             'del_rincon':4,\n",
    "             'echaurren':1,\n",
    "             'esmeralda':15,\n",
    "             'la_paloma':7,\n",
    "             'llaima':16,\n",
    "             'meson_alto':11,\n",
    "             'mocho':28,\n",
    "             'mocho_terrestre':4,\n",
    "             'osorno':37,\n",
    "             'plomo':9,\n",
    "             'san_francisco':4,\n",
    "             'sollipulli':9,\n",
    "             's_velluda':32,\n",
    "             'tinguiririca_1':16,\n",
    "             'tinguiririca_3':12,\n",
    "             'tinguiririca_4':9,\n",
    "             'tronador':18,\n",
    "             'universidad':20,\n",
    "             'villarrica':44,\n",
    "             'villarrica_terrestre':5,\n",
    "             'yeso':9,\n",
    "             'yeso_2':4\n",
    "             }\n",
    "\n",
    "name_dict = {'bello':'Bello',\n",
    "             'callaqui':'Callaqui',\n",
    "             'cipreses_norte':'Cipreses Norte',\n",
    "             'del_rincon':'Del Rincon',\n",
    "             'echaurren':'Echaurren',\n",
    "             'esmeralda':'Esmeralda',\n",
    "             'la_paloma':'La Paloma',\n",
    "             'llaima':'Llaima',\n",
    "             'meson_alto':'Meson Alto',\n",
    "             'mocho':'Mocho-Chosh',\n",
    "             'mocho_terrestre':'Mocho-Chosh',\n",
    "             'osorno':'Osorno',\n",
    "             'plomo':'Cerro el Plomo',\n",
    "             'san_francisco':'San Francisco',\n",
    "             'sollipulli':'Sollipulli',\n",
    "             's_velluda':'Velluda',\n",
    "             'tinguiririca_1':'Tinguiririca 1',\n",
    "             'tinguiririca_3':'Tinguiririca 3',\n",
    "             'tinguiririca_4':'Tinguiririca 4',\n",
    "             'tronador':'Tronador',\n",
    "             'universidad':'Universidad',\n",
    "             'villarrica':'Villarrica',\n",
    "             'villarrica_terrestre':'Villarrica',\n",
    "             'yeso':'Yeso',\n",
    "             'yeso_2':'Yeso 2'\n",
    "             }"
   ]
  },
  {
   "cell_type": "code",
   "execution_count": null,
   "metadata": {
    "collapsed": false
   },
   "outputs": [],
   "source": [
    "# read the T table\n",
    "general = pd.read_excel('C:\\\\Users\\\\jlandman\\\\Desktop\\\\newData\\\\CL_Schaefer\\\\GlaThiDa2-0_MS_Johannes.xls')"
   ]
  },
  {
   "cell_type": "code",
   "execution_count": null,
   "metadata": {
    "collapsed": false
   },
   "outputs": [],
   "source": [
    "for file in files:\n",
    "    new_data = pd.DataFrame([])\n",
    "    fname = os.path.basename(file)\n",
    "    dbf = Dbf5(file)\n",
    "    data = dbf.to_dataframe()\n",
    "    print(fname)\n",
    "    data = data.groupby(data.index // thin_dict[fname.split('.')[0]]).mean() # average over every x values as specified above\n",
    "    \n",
    "    print(data.columns.values)\n",
    "    \n",
    "    # ice thickness\n",
    "    try:\n",
    "        new_data['THICKNESS'] = data['esp'].map('{:.1f}'.format)\n",
    "    except KeyError:\n",
    "        try:\n",
    "            new_data['THICKNESS'] = data['Espesor'].map('{:.1f}'.format)\n",
    "        except KeyError:\n",
    "            new_data['THICKNESS'] = data['Esp'].map('{:.1f}'.format)\n",
    "            \n",
    "    # lat\n",
    "    try:\n",
    "        new_data['POINT_LAT'] = data['y'].map('{:.4f}'.format)\n",
    "    except KeyError:\n",
    "        try:\n",
    "            new_data['POINT_LAT'] = data['Norte'].map('{:.4f}'.format)\n",
    "        except KeyError:\n",
    "            new_data['POINT_LAT'] = data['N'].map('{:.4f}'.format)\n",
    "        \n",
    "    # lon\n",
    "    try:\n",
    "        new_data['POINT_LON'] = data['x'].map('{:.4f}'.format)\n",
    "    except KeyError:\n",
    "        try:\n",
    "            new_data['POINT_LON'] = data['Este'].map('{:.4f}'.format)\n",
    "        except KeyError:\n",
    "            new_data['POINT_LON'] = data['E'].map('{:.4f}'.format)\n",
    "    \n",
    "    new_data['GLACIER_NAME'] = general[general.GLACIER_NAME == name_dict[os.path.split(file)[1].split('.')[0]]].GLACIER_NAME.iloc[0]\n",
    "    new_data['GlaThiDa_ID'] = general[general.GLACIER_NAME == name_dict[os.path.split(file)[1].split('.')[0]]].GlaThiDa_ID.iloc[0]\n",
    "    new_data['POLITICAL_UNIT'] = general[general.GLACIER_NAME == name_dict[os.path.split(file)[1].split('.')[0]]].POLITICAL_UNIT.iloc[0]\n",
    "    new_data['SURVEY_DATE'] = general[general.GLACIER_NAME == name_dict[os.path.split(file)[1].split('.')[0]]].SURVEY_DATE.iloc[0]\n",
    "    new_data['POINT_ID'] = range(1, len(new_data)+1)\n",
    "    new_data['ELEVATION'] = np.nan\n",
    "    new_data['THICKNESS_UNCERTAINTY'] = np.nan\n",
    "    new_data['DATA_FLAG'] = np.nan\n",
    "    new_data['REMARKS'] = ''\n",
    "    \n",
    "    new_data = new_data[['GlaThiDa_ID','POLITICAL_UNIT','GLACIER_NAME','SURVEY_DATE','POINT_ID','POINT_LAT','POINT_LON',\n",
    "                         'ELEVATION','THICKNESS','THICKNESS_UNCERTAINTY','DATA_FLAG','REMARKS']]\n",
    "\n",
    "    new_data.to_excel(os.path.join(os.path.dirname(file),fname.split('.')[0]+'.xls'), index=False)"
   ]
  },
  {
   "cell_type": "code",
   "execution_count": null,
   "metadata": {
    "collapsed": true
   },
   "outputs": [],
   "source": []
  },
  {
   "cell_type": "code",
   "execution_count": null,
   "metadata": {
    "collapsed": true
   },
   "outputs": [],
   "source": []
  }
 ],
 "metadata": {
  "kernelspec": {
   "display_name": "Python 3",
   "language": "python",
   "name": "python3"
  },
  "language_info": {
   "codemirror_mode": {
    "name": "ipython",
    "version": 3
   },
   "file_extension": ".py",
   "mimetype": "text/x-python",
   "name": "python",
   "nbconvert_exporter": "python",
   "pygments_lexer": "ipython3",
   "version": "3.5.1"
  }
 },
 "nbformat": 4,
 "nbformat_minor": 0
}
