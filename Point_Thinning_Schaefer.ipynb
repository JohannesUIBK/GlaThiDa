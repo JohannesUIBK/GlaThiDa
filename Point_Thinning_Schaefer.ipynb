{
 "cells": [
  {
   "cell_type": "code",
   "execution_count": 1,
   "metadata": {
    "collapsed": false
   },
   "outputs": [],
   "source": [
    "import pandas as pd\n",
    "from glob import glob\n",
    "import os\n",
    "import numpy as np"
   ]
  },
  {
   "cell_type": "code",
   "execution_count": 2,
   "metadata": {
    "collapsed": false
   },
   "outputs": [
    {
     "name": "stdout",
     "output_type": "stream",
     "text": [
      "['C:\\\\Users\\\\jlandman\\\\Desktop\\\\newData\\\\CL_Schaefer\\\\GlaThiDa2-0_MS2_Johannes.xls', 'C:\\\\Users\\\\jlandman\\\\Desktop\\\\newData\\\\CL_Schaefer\\\\GlaThiDa2-0_MS_Johannes.xls']\n"
     ]
    }
   ],
   "source": [
    "files = glob('C:\\\\Users\\\\jlandman\\\\Desktop\\\\newData\\\\CL_Schaefer\\\\GlaThiDa2-0_MS*_Johannes.xls')\n",
    "print(files)"
   ]
  },
  {
   "cell_type": "code",
   "execution_count": 3,
   "metadata": {
    "collapsed": true
   },
   "outputs": [],
   "source": [
    "thin_dict = {'Del Potro':8,\n",
    "             'Tronquitos':6,\n",
    "             'Tapado':12,\n",
    "             'Juncal Norte': 20,   \n",
    "             'Rio Blanco':24,\n",
    "             'Tupungatito':22,\n",
    "             'Marmolejo':26    \n",
    "}"
   ]
  },
  {
   "cell_type": "code",
   "execution_count": 32,
   "metadata": {
    "collapsed": false
   },
   "outputs": [
    {
     "name": "stderr",
     "output_type": "stream",
     "text": [
      "C:\\Users\\jlandman\\Anaconda3\\lib\\site-packages\\ipykernel\\__main__.py:40: FutureWarning: sort(columns=....) is deprecated, use sort_values(by=.....)\n"
     ]
    }
   ],
   "source": [
    "data_new = pd.DataFrame([])\n",
    "\n",
    "for file in files:\n",
    "    fname = os.path.basename(file)\n",
    "    data = pd.read_excel(file, sheetname=1)\n",
    "    \n",
    "    for glacier in np.unique(data.GLACIER_NAME.values):\n",
    "        temp = data[data.GLACIER_NAME==glacier]\n",
    "        \n",
    "        gtd_id = temp[temp.GLACIER_NAME==glacier].GlaThiDa_ID.values[0]\n",
    "        pol_u = temp[temp.GLACIER_NAME==glacier].POLITICAL_UNIT.values[0]\n",
    "        surv_date = temp[temp.GLACIER_NAME==glacier].SURVEY_DATE.values[0]\n",
    "        remarks = temp[temp.GLACIER_NAME==glacier].REMARKS.iloc[0]\n",
    "        gname = glacier\n",
    "        \n",
    "        temp = temp.groupby(temp.index // thin_dict[glacier]).mean() # average over every x values as specified above\n",
    "        \n",
    "        temp['POLITICAL_UNIT'] = pol_u\n",
    "        temp['GLACIER_NAME'] = gname\n",
    "        temp['REMARKS'] = remarks\n",
    "        temp['THICKNESS_UNCERTAINTY'] = np.nan\n",
    "        temp['DATA_FLAG'] = np.nan\n",
    "        temp['GlaThiDa_ID'] = gtd_id\n",
    "        temp['SURVEY_DATE'] = surv_date\n",
    "        temp['POINT_ID'] = range(1,len(temp)+1)\n",
    "        \n",
    "        try:\n",
    "            temp['ELEVATION'] = temp['ELEVATION'].map('{:.0f}'.format)\n",
    "        except KeyError:\n",
    "            temp['ELEVATION'] = np.nan\n",
    "        \n",
    "            \n",
    "        data_new = data_new.append(temp, ignore_index=True)\n",
    "\n",
    "    \n",
    "data_new['THICKNESS'] = data_new['THICKNESS'].map('{:.1f}'.format)\n",
    "data_new = data_new[['GlaThiDa_ID','POLITICAL_UNIT', 'GLACIER_NAME', 'SURVEY_DATE', 'POINT_ID',  'POINT_LAT',  'POINT_LON',  'ELEVATION', \n",
    "                     'THICKNESS', 'THICKNESS_UNCERTAINTY', 'DATA_FLAG', 'REMARKS']]\n",
    "\n",
    "data_new = data_new.sort_values(by=['GlaThiDa_ID','POINT_ID'])\n",
    "data_new.to_excel(os.path.join(os.path.dirname(file),fname.split('.')[0]+'_thinned.xlsx'), index=False)"
   ]
  },
  {
   "cell_type": "code",
   "execution_count": null,
   "metadata": {
    "collapsed": true
   },
   "outputs": [],
   "source": []
  }
 ],
 "metadata": {
  "kernelspec": {
   "display_name": "Python 3",
   "language": "python",
   "name": "python3"
  },
  "language_info": {
   "codemirror_mode": {
    "name": "ipython",
    "version": 3
   },
   "file_extension": ".py",
   "mimetype": "text/x-python",
   "name": "python",
   "nbconvert_exporter": "python",
   "pygments_lexer": "ipython3",
   "version": "3.5.1"
  }
 },
 "nbformat": 4,
 "nbformat_minor": 0
}
